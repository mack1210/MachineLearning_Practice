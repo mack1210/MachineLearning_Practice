{
 "metadata": {
  "language_info": {
   "codemirror_mode": {
    "name": "ipython",
    "version": 3
   },
   "file_extension": ".py",
   "mimetype": "text/x-python",
   "name": "python",
   "nbconvert_exporter": "python",
   "pygments_lexer": "ipython3",
   "version": "3.8.5-final"
  },
  "orig_nbformat": 2,
  "kernelspec": {
   "name": "python_defaultSpec_1599485767312",
   "display_name": "Python 3.8.5 64-bit ('base': conda)"
  }
 },
 "nbformat": 4,
 "nbformat_minor": 2,
 "cells": [
  {
   "cell_type": "markdown",
   "metadata": {},
   "source": [
    "## 데이터 선정 배경 및 진행 방법\n",
    "사람의 특성에는 많은 것들이 있습니다. 키와 몸무게도 그 중 하나가 될 수 있는데 남성이 여성보다 평균적으로 10cm가량 크고, 몸무게도 많이 나가는 것이 보통입니다. 이에 착안하여 키와 몸무게 데이터로 성별을 얼마나 정확히 predict할 수 있는지 ML기법을 이용하여 진행하였습니다.\n",
    "아직 기초적인 수준으로 inflearn강의에서 진행한 기법을 중심으로 review 해보았습니다.\n",
    "\n",
    "### 예상 결과\n",
    "모든 사람의 체중이 정상범위 값일 경우 p > 0.5, 체중이 균일분포 혹은 특정 분포를 따를 경우 p = 0.5라고 예상하였습니다. \n",
    "\n",
    "### Data dictionary\n",
    "* Gender : Male / Female\n",
    "\n",
    "* Height : Number (cm)\n",
    "\n",
    "* Weight : Number (Kg)\n",
    "\n",
    "* Index :\n",
    "\n",
    "        0 - Extremely Weak\n",
    "\n",
    "        1 - Weak\n",
    "\n",
    "        2 - Normal\n",
    "\n",
    "        3 - Overweight\n",
    "\n",
    "        4 - Obesity\n",
    "\n",
    "        5 - Extreme Obesity"
   ]
  },
  {
   "cell_type": "code",
   "execution_count": 1,
   "metadata": {},
   "outputs": [],
   "source": [
    "import numpy as np\n",
    "import pandas as pd\n",
    "from sklearn.datasets import load_iris\n",
    "from sklearn.tree import DecisionTreeClassifier\n",
    "from sklearn.metrics import accuracy_score\n",
    "from sklearn.model_selection import train_test_split\n",
    "from matplotlib.pyplot import figure\n",
    "import matplotlib.pyplot as plt"
   ]
  },
  {
   "cell_type": "code",
   "execution_count": 2,
   "metadata": {
    "tags": []
   },
   "outputs": [],
   "source": [
    "dt_clf = DecisionTreeClassifier()\n",
    "body_df = pd.read_csv('C:\\\\Users\\\\flowe\\\\OneDrive - San Francisco State University\\\\Project_Expert_GitHub\\\\Project_Python\\\\JupyterNotebookWorkingSpace\\\\PerfectGuid\\\\2장\\\\500_Person_Gender_Height_Weight_Index.csv')"
   ]
  },
  {
   "cell_type": "code",
   "execution_count": 3,
   "metadata": {},
   "outputs": [
    {
     "output_type": "execute_result",
     "data": {
      "text/plain": "     Gender  Height  Weight  Index\n0      Male     174      96      4\n1      Male     189      87      2\n2    Female     185     110      4\n3    Female     195     104      3\n4      Male     149      61      3\n..      ...     ...     ...    ...\n495  Female     150     153      5\n496  Female     184     121      4\n497  Female     141     136      5\n498    Male     150      95      5\n499    Male     173     131      5\n\n[500 rows x 4 columns]",
      "text/html": "<div>\n<style scoped>\n    .dataframe tbody tr th:only-of-type {\n        vertical-align: middle;\n    }\n\n    .dataframe tbody tr th {\n        vertical-align: top;\n    }\n\n    .dataframe thead th {\n        text-align: right;\n    }\n</style>\n<table border=\"1\" class=\"dataframe\">\n  <thead>\n    <tr style=\"text-align: right;\">\n      <th></th>\n      <th>Gender</th>\n      <th>Height</th>\n      <th>Weight</th>\n      <th>Index</th>\n    </tr>\n  </thead>\n  <tbody>\n    <tr>\n      <th>0</th>\n      <td>Male</td>\n      <td>174</td>\n      <td>96</td>\n      <td>4</td>\n    </tr>\n    <tr>\n      <th>1</th>\n      <td>Male</td>\n      <td>189</td>\n      <td>87</td>\n      <td>2</td>\n    </tr>\n    <tr>\n      <th>2</th>\n      <td>Female</td>\n      <td>185</td>\n      <td>110</td>\n      <td>4</td>\n    </tr>\n    <tr>\n      <th>3</th>\n      <td>Female</td>\n      <td>195</td>\n      <td>104</td>\n      <td>3</td>\n    </tr>\n    <tr>\n      <th>4</th>\n      <td>Male</td>\n      <td>149</td>\n      <td>61</td>\n      <td>3</td>\n    </tr>\n    <tr>\n      <th>...</th>\n      <td>...</td>\n      <td>...</td>\n      <td>...</td>\n      <td>...</td>\n    </tr>\n    <tr>\n      <th>495</th>\n      <td>Female</td>\n      <td>150</td>\n      <td>153</td>\n      <td>5</td>\n    </tr>\n    <tr>\n      <th>496</th>\n      <td>Female</td>\n      <td>184</td>\n      <td>121</td>\n      <td>4</td>\n    </tr>\n    <tr>\n      <th>497</th>\n      <td>Female</td>\n      <td>141</td>\n      <td>136</td>\n      <td>5</td>\n    </tr>\n    <tr>\n      <th>498</th>\n      <td>Male</td>\n      <td>150</td>\n      <td>95</td>\n      <td>5</td>\n    </tr>\n    <tr>\n      <th>499</th>\n      <td>Male</td>\n      <td>173</td>\n      <td>131</td>\n      <td>5</td>\n    </tr>\n  </tbody>\n</table>\n<p>500 rows × 4 columns</p>\n</div>"
     },
     "metadata": {},
     "execution_count": 3
    }
   ],
   "source": [
    "body_df"
   ]
  },
  {
   "cell_type": "code",
   "execution_count": 4,
   "metadata": {
    "tags": []
   },
   "outputs": [
    {
     "output_type": "execute_result",
     "data": {
      "text/plain": "0      1\n1      1\n2      2\n3      2\n4      1\n      ..\n495    2\n496    2\n497    2\n498    1\n499    1\nName: Gender, Length: 500, dtype: int64"
     },
     "metadata": {},
     "execution_count": 4
    }
   ],
   "source": [
    "# 남자는 1, 여자는 2로 replace\n",
    "body_df['Gender'].replace('Male', 1, inplace=True)\n",
    "body_df['Gender'].replace('Female', 2, inplace=True)\n",
    "\n",
    "# target을 성별로 설정\n",
    "body_target = body_df['Gender']\n",
    "body_target"
   ]
  },
  {
   "cell_type": "code",
   "execution_count": 5,
   "metadata": {},
   "outputs": [
    {
     "output_type": "execute_result",
     "data": {
      "text/plain": "     Height  Weight\n0       174      96\n1       189      87\n2       185     110\n3       195     104\n4       149      61\n..      ...     ...\n495     150     153\n496     184     121\n497     141     136\n498     150      95\n499     173     131\n\n[500 rows x 2 columns]",
      "text/html": "<div>\n<style scoped>\n    .dataframe tbody tr th:only-of-type {\n        vertical-align: middle;\n    }\n\n    .dataframe tbody tr th {\n        vertical-align: top;\n    }\n\n    .dataframe thead th {\n        text-align: right;\n    }\n</style>\n<table border=\"1\" class=\"dataframe\">\n  <thead>\n    <tr style=\"text-align: right;\">\n      <th></th>\n      <th>Height</th>\n      <th>Weight</th>\n    </tr>\n  </thead>\n  <tbody>\n    <tr>\n      <th>0</th>\n      <td>174</td>\n      <td>96</td>\n    </tr>\n    <tr>\n      <th>1</th>\n      <td>189</td>\n      <td>87</td>\n    </tr>\n    <tr>\n      <th>2</th>\n      <td>185</td>\n      <td>110</td>\n    </tr>\n    <tr>\n      <th>3</th>\n      <td>195</td>\n      <td>104</td>\n    </tr>\n    <tr>\n      <th>4</th>\n      <td>149</td>\n      <td>61</td>\n    </tr>\n    <tr>\n      <th>...</th>\n      <td>...</td>\n      <td>...</td>\n    </tr>\n    <tr>\n      <th>495</th>\n      <td>150</td>\n      <td>153</td>\n    </tr>\n    <tr>\n      <th>496</th>\n      <td>184</td>\n      <td>121</td>\n    </tr>\n    <tr>\n      <th>497</th>\n      <td>141</td>\n      <td>136</td>\n    </tr>\n    <tr>\n      <th>498</th>\n      <td>150</td>\n      <td>95</td>\n    </tr>\n    <tr>\n      <th>499</th>\n      <td>173</td>\n      <td>131</td>\n    </tr>\n  </tbody>\n</table>\n<p>500 rows × 2 columns</p>\n</div>"
     },
     "metadata": {},
     "execution_count": 5
    }
   ],
   "source": [
    "# data로 키와 몸무게를 받아옴\n",
    "body_data = body_df[[\"Height\", \"Weight\"]]\n",
    "body_data"
   ]
  },
  {
   "cell_type": "markdown",
   "metadata": {},
   "source": [
    "** 전체 남녀의 키와 몸무게에 대한 데이터 개요 **"
   ]
  },
  {
   "cell_type": "code",
   "execution_count": 6,
   "metadata": {
    "tags": []
   },
   "outputs": [
    {
     "output_type": "stream",
     "name": "stdout",
     "text": "남자 245명, 여자 255명의 데이터\n"
    }
   ],
   "source": [
    "M = body_df[body_df[\"Gender\"] == 1].count()[0]\n",
    "F = body_df[body_df[\"Gender\"] == 2].count()[0]\n",
    "print(\"남자 {0}명, 여자 {1}명의 데이터\".format(M, F))"
   ]
  },
  {
   "cell_type": "code",
   "execution_count": 7,
   "metadata": {
    "tags": []
   },
   "outputs": [
    {
     "output_type": "stream",
     "name": "stdout",
     "text": "전체 남자 키 평균 : 169.65, 전체 남자 키 표준편차 : 17.07\n전체 남자 체중 평균 : 106.31, 전체 남자 체중 표준편차 : 31.83\n"
    }
   ],
   "source": [
    "M_m_h = body_df[body_df[\"Gender\"] == 1][\"Height\"].mean()\n",
    "M_sd_h = body_df[body_df[\"Gender\"] == 1][\"Height\"].std()\n",
    "print(\"전체 남자 키 평균 : {0:.2f}, 전체 남자 키 표준편차 : {1:.2f}\".format(M_m_h, M_sd_h))\n",
    "M_m_w = body_df[body_df[\"Gender\"] == 1][\"Weight\"].mean()\n",
    "M_sd_w = body_df[body_df[\"Gender\"] == 1][\"Weight\"].std()\n",
    "print(\"전체 남자 체중 평균 : {0:.2f}, 전체 남자 체중 표준편차 : {1:.2f}\".format(M_m_w, M_sd_w))"
   ]
  },
  {
   "cell_type": "code",
   "execution_count": 8,
   "metadata": {
    "tags": []
   },
   "outputs": [
    {
     "output_type": "stream",
     "name": "stdout",
     "text": "전체 여자 키 평균 : 170.23, 전체 키 표준편차 : 15.71\n전체 체중 평균 : 105.70, 전체 체중 표준편차 : 32.96\n"
    }
   ],
   "source": [
    "F_m_h = body_df[body_df[\"Gender\"] == 2][\"Height\"].mean()\n",
    "F_sd_h = body_df[body_df[\"Gender\"] == 2][\"Height\"].std()\n",
    "print(\"전체 여자 키 평균 : {0:.2f}, 전체 키 표준편차 : {1:.2f}\".format(F_m_h, F_sd_h))\n",
    "F_m_w = body_df[body_df[\"Gender\"] == 2][\"Weight\"].mean()\n",
    "F_sd_w = body_df[body_df[\"Gender\"] == 2][\"Weight\"].std()\n",
    "print(\"전체 체중 평균 : {0:.2f}, 전체 체중 표준편차 : {1:.2f}\".format(F_m_w, F_sd_w))"
   ]
  },
  {
   "cell_type": "code",
   "execution_count": 9,
   "metadata": {
    "tags": []
   },
   "outputs": [
    {
     "output_type": "execute_result",
     "data": {
      "text/plain": "<AxesSubplot:xlabel='Height'>"
     },
     "metadata": {},
     "execution_count": 9
    },
    {
     "output_type": "display_data",
     "data": {
      "text/plain": "<Figure size 432x288 with 1 Axes>",
      "image/svg+xml": "<?xml version=\"1.0\" encoding=\"utf-8\" standalone=\"no\"?>\r\n<!DOCTYPE svg PUBLIC \"-//W3C//DTD SVG 1.1//EN\"\r\n  \"http://www.w3.org/Graphics/SVG/1.1/DTD/svg11.dtd\">\r\n<!-- Created with matplotlib (https://matplotlib.org/) -->\r\n<svg height=\"262.19625pt\" version=\"1.1\" viewBox=\"0 0 392.234277 262.19625\" width=\"392.234277pt\" xmlns=\"http://www.w3.org/2000/svg\" xmlns:xlink=\"http://www.w3.org/1999/xlink\">\r\n <metadata>\r\n  <rdf:RDF xmlns:cc=\"http://creativecommons.org/ns#\" xmlns:dc=\"http://purl.org/dc/elements/1.1/\" xmlns:rdf=\"http://www.w3.org/1999/02/22-rdf-syntax-ns#\">\r\n   <cc:Work>\r\n    <dc:type rdf:resource=\"http://purl.org/dc/dcmitype/StillImage\"/>\r\n    <dc:date>2020-09-07T22:52:37.643283</dc:date>\r\n    <dc:format>image/svg+xml</dc:format>\r\n    <dc:creator>\r\n     <cc:Agent>\r\n      <dc:title>Matplotlib v3.3.1, https://matplotlib.org/</dc:title>\r\n     </cc:Agent>\r\n    </dc:creator>\r\n   </cc:Work>\r\n  </rdf:RDF>\r\n </metadata>\r\n <defs>\r\n  <style type=\"text/css\">*{stroke-linecap:butt;stroke-linejoin:round;}</style>\r\n </defs>\r\n <g id=\"figure_1\">\r\n  <g id=\"patch_1\">\r\n   <path d=\"M 0 262.19625 \r\nL 392.234277 262.19625 \r\nL 392.234277 0 \r\nL 0 0 \r\nz\r\n\" style=\"fill:none;\"/>\r\n  </g>\r\n  <g id=\"axes_1\">\r\n   <g id=\"patch_2\">\r\n    <path d=\"M 42.828125 224.64 \r\nL 377.628125 224.64 \r\nL 377.628125 7.2 \r\nL 42.828125 7.2 \r\nz\r\n\" style=\"fill:#ffffff;\"/>\r\n   </g>\r\n   <g id=\"patch_3\">\r\n    <path clip-path=\"url(#p8f1b94fbbe)\" d=\"M 113.688702 224.64 \r\nL 141.271394 224.64 \r\nL 141.271394 64.042915 \r\nL 113.688702 64.042915 \r\nz\r\n\" style=\"fill:#1f77b4;opacity:0.4;\"/>\r\n   </g>\r\n   <g id=\"patch_4\">\r\n    <path clip-path=\"url(#p8f1b94fbbe)\" d=\"M 141.271394 224.64 \r\nL 168.854087 224.64 \r\nL 168.854087 106.305306 \r\nL 141.271394 106.305306 \r\nz\r\n\" style=\"fill:#1f77b4;opacity:0.4;\"/>\r\n   </g>\r\n   <g id=\"patch_5\">\r\n    <path clip-path=\"url(#p8f1b94fbbe)\" d=\"M 168.854087 224.64 \r\nL 196.436779 224.64 \r\nL 196.436779 68.269155 \r\nL 168.854087 68.269155 \r\nz\r\n\" style=\"fill:#1f77b4;opacity:0.4;\"/>\r\n   </g>\r\n   <g id=\"patch_6\">\r\n    <path clip-path=\"url(#p8f1b94fbbe)\" d=\"M 196.436779 224.64 \r\nL 224.019471 224.64 \r\nL 224.019471 110.531545 \r\nL 196.436779 110.531545 \r\nz\r\n\" style=\"fill:#1f77b4;opacity:0.4;\"/>\r\n   </g>\r\n   <g id=\"patch_7\">\r\n    <path clip-path=\"url(#p8f1b94fbbe)\" d=\"M 224.019471 224.64 \r\nL 251.602163 224.64 \r\nL 251.602163 17.554286 \r\nL 224.019471 17.554286 \r\nz\r\n\" style=\"fill:#1f77b4;opacity:0.4;\"/>\r\n   </g>\r\n   <g id=\"patch_8\">\r\n    <path clip-path=\"url(#p8f1b94fbbe)\" d=\"M 251.602163 224.64 \r\nL 279.184856 224.64 \r\nL 279.184856 68.269155 \r\nL 251.602163 68.269155 \r\nz\r\n\" style=\"fill:#1f77b4;opacity:0.4;\"/>\r\n   </g>\r\n   <g id=\"patch_9\">\r\n    <path clip-path=\"url(#p8f1b94fbbe)\" d=\"M 279.184856 224.64 \r\nL 306.767548 224.64 \r\nL 306.767548 102.079067 \r\nL 279.184856 102.079067 \r\nz\r\n\" style=\"fill:#1f77b4;opacity:0.4;\"/>\r\n   </g>\r\n   <g id=\"patch_10\">\r\n    <path clip-path=\"url(#p8f1b94fbbe)\" d=\"M 113.688702 224.64 \r\nL 141.271394 224.64 \r\nL 141.271394 123.127395 \r\nL 113.688702 123.127395 \r\nz\r\n\" style=\"fill:#ff7f0e;opacity:0.4;\"/>\r\n   </g>\r\n   <g id=\"patch_11\">\r\n    <path clip-path=\"url(#p8f1b94fbbe)\" d=\"M 141.271394 224.64 \r\nL 168.854087 224.64 \r\nL 168.854087 78.461849 \r\nL 141.271394 78.461849 \r\nz\r\n\" style=\"fill:#ff7f0e;opacity:0.4;\"/>\r\n   </g>\r\n   <g id=\"patch_12\">\r\n    <path clip-path=\"url(#p8f1b94fbbe)\" d=\"M 168.854087 224.64 \r\nL 196.436779 224.64 \r\nL 196.436779 66.280336 \r\nL 168.854087 66.280336 \r\nz\r\n\" style=\"fill:#ff7f0e;opacity:0.4;\"/>\r\n   </g>\r\n   <g id=\"patch_13\">\r\n    <path clip-path=\"url(#p8f1b94fbbe)\" d=\"M 196.436779 224.64 \r\nL 224.019471 224.64 \r\nL 224.019471 45.977815 \r\nL 196.436779 45.977815 \r\nz\r\n\" style=\"fill:#ff7f0e;opacity:0.4;\"/>\r\n   </g>\r\n   <g id=\"patch_14\">\r\n    <path clip-path=\"url(#p8f1b94fbbe)\" d=\"M 224.019471 224.64 \r\nL 251.602163 224.64 \r\nL 251.602163 74.401345 \r\nL 224.019471 74.401345 \r\nz\r\n\" style=\"fill:#ff7f0e;opacity:0.4;\"/>\r\n   </g>\r\n   <g id=\"patch_15\">\r\n    <path clip-path=\"url(#p8f1b94fbbe)\" d=\"M 251.602163 224.64 \r\nL 279.184856 224.64 \r\nL 279.184856 25.675294 \r\nL 251.602163 25.675294 \r\nz\r\n\" style=\"fill:#ff7f0e;opacity:0.4;\"/>\r\n   </g>\r\n   <g id=\"patch_16\">\r\n    <path clip-path=\"url(#p8f1b94fbbe)\" d=\"M 279.184856 224.64 \r\nL 306.767548 224.64 \r\nL 306.767548 123.127395 \r\nL 279.184856 123.127395 \r\nz\r\n\" style=\"fill:#ff7f0e;opacity:0.4;\"/>\r\n   </g>\r\n   <g id=\"matplotlib.axis_1\">\r\n    <g id=\"xtick_1\">\r\n     <g id=\"line2d_1\">\r\n      <defs>\r\n       <path d=\"M 0 0 \r\nL 0 3.5 \r\n\" id=\"m8342dea9fe\" style=\"stroke:#000000;stroke-width:0.8;\"/>\r\n      </defs>\r\n      <g>\r\n       <use style=\"stroke:#000000;stroke-width:0.8;\" x=\"48.238246\" xlink:href=\"#m8342dea9fe\" y=\"224.64\"/>\r\n      </g>\r\n     </g>\r\n     <g id=\"text_1\">\r\n      <!-- 120 -->\r\n      <g transform=\"translate(38.694496 239.238438)scale(0.1 -0.1)\">\r\n       <defs>\r\n        <path d=\"M 12.40625 8.296875 \r\nL 28.515625 8.296875 \r\nL 28.515625 63.921875 \r\nL 10.984375 60.40625 \r\nL 10.984375 69.390625 \r\nL 28.421875 72.90625 \r\nL 38.28125 72.90625 \r\nL 38.28125 8.296875 \r\nL 54.390625 8.296875 \r\nL 54.390625 0 \r\nL 12.40625 0 \r\nz\r\n\" id=\"DejaVuSans-49\"/>\r\n        <path d=\"M 19.1875 8.296875 \r\nL 53.609375 8.296875 \r\nL 53.609375 0 \r\nL 7.328125 0 \r\nL 7.328125 8.296875 \r\nQ 12.9375 14.109375 22.625 23.890625 \r\nQ 32.328125 33.6875 34.8125 36.53125 \r\nQ 39.546875 41.84375 41.421875 45.53125 \r\nQ 43.3125 49.21875 43.3125 52.78125 \r\nQ 43.3125 58.59375 39.234375 62.25 \r\nQ 35.15625 65.921875 28.609375 65.921875 \r\nQ 23.96875 65.921875 18.8125 64.3125 \r\nQ 13.671875 62.703125 7.8125 59.421875 \r\nL 7.8125 69.390625 \r\nQ 13.765625 71.78125 18.9375 73 \r\nQ 24.125 74.21875 28.421875 74.21875 \r\nQ 39.75 74.21875 46.484375 68.546875 \r\nQ 53.21875 62.890625 53.21875 53.421875 \r\nQ 53.21875 48.921875 51.53125 44.890625 \r\nQ 49.859375 40.875 45.40625 35.40625 \r\nQ 44.1875 33.984375 37.640625 27.21875 \r\nQ 31.109375 20.453125 19.1875 8.296875 \r\nz\r\n\" id=\"DejaVuSans-50\"/>\r\n        <path d=\"M 31.78125 66.40625 \r\nQ 24.171875 66.40625 20.328125 58.90625 \r\nQ 16.5 51.421875 16.5 36.375 \r\nQ 16.5 21.390625 20.328125 13.890625 \r\nQ 24.171875 6.390625 31.78125 6.390625 \r\nQ 39.453125 6.390625 43.28125 13.890625 \r\nQ 47.125 21.390625 47.125 36.375 \r\nQ 47.125 51.421875 43.28125 58.90625 \r\nQ 39.453125 66.40625 31.78125 66.40625 \r\nz\r\nM 31.78125 74.21875 \r\nQ 44.046875 74.21875 50.515625 64.515625 \r\nQ 56.984375 54.828125 56.984375 36.375 \r\nQ 56.984375 17.96875 50.515625 8.265625 \r\nQ 44.046875 -1.421875 31.78125 -1.421875 \r\nQ 19.53125 -1.421875 13.0625 8.265625 \r\nQ 6.59375 17.96875 6.59375 36.375 \r\nQ 6.59375 54.828125 13.0625 64.515625 \r\nQ 19.53125 74.21875 31.78125 74.21875 \r\nz\r\n\" id=\"DejaVuSans-48\"/>\r\n       </defs>\r\n       <use xlink:href=\"#DejaVuSans-49\"/>\r\n       <use x=\"63.623047\" xlink:href=\"#DejaVuSans-50\"/>\r\n       <use x=\"127.246094\" xlink:href=\"#DejaVuSans-48\"/>\r\n      </g>\r\n     </g>\r\n    </g>\r\n    <g id=\"xtick_2\">\r\n     <g id=\"line2d_2\">\r\n      <g>\r\n       <use style=\"stroke:#000000;stroke-width:0.8;\" x=\"113.688702\" xlink:href=\"#m8342dea9fe\" y=\"224.64\"/>\r\n      </g>\r\n     </g>\r\n     <g id=\"text_2\">\r\n      <!-- 140 -->\r\n      <g transform=\"translate(104.144952 239.238438)scale(0.1 -0.1)\">\r\n       <defs>\r\n        <path d=\"M 37.796875 64.3125 \r\nL 12.890625 25.390625 \r\nL 37.796875 25.390625 \r\nz\r\nM 35.203125 72.90625 \r\nL 47.609375 72.90625 \r\nL 47.609375 25.390625 \r\nL 58.015625 25.390625 \r\nL 58.015625 17.1875 \r\nL 47.609375 17.1875 \r\nL 47.609375 0 \r\nL 37.796875 0 \r\nL 37.796875 17.1875 \r\nL 4.890625 17.1875 \r\nL 4.890625 26.703125 \r\nz\r\n\" id=\"DejaVuSans-52\"/>\r\n       </defs>\r\n       <use xlink:href=\"#DejaVuSans-49\"/>\r\n       <use x=\"63.623047\" xlink:href=\"#DejaVuSans-52\"/>\r\n       <use x=\"127.246094\" xlink:href=\"#DejaVuSans-48\"/>\r\n      </g>\r\n     </g>\r\n    </g>\r\n    <g id=\"xtick_3\">\r\n     <g id=\"line2d_3\">\r\n      <g>\r\n       <use style=\"stroke:#000000;stroke-width:0.8;\" x=\"179.139158\" xlink:href=\"#m8342dea9fe\" y=\"224.64\"/>\r\n      </g>\r\n     </g>\r\n     <g id=\"text_3\">\r\n      <!-- 160 -->\r\n      <g transform=\"translate(169.595408 239.238438)scale(0.1 -0.1)\">\r\n       <defs>\r\n        <path d=\"M 33.015625 40.375 \r\nQ 26.375 40.375 22.484375 35.828125 \r\nQ 18.609375 31.296875 18.609375 23.390625 \r\nQ 18.609375 15.53125 22.484375 10.953125 \r\nQ 26.375 6.390625 33.015625 6.390625 \r\nQ 39.65625 6.390625 43.53125 10.953125 \r\nQ 47.40625 15.53125 47.40625 23.390625 \r\nQ 47.40625 31.296875 43.53125 35.828125 \r\nQ 39.65625 40.375 33.015625 40.375 \r\nz\r\nM 52.59375 71.296875 \r\nL 52.59375 62.3125 \r\nQ 48.875 64.0625 45.09375 64.984375 \r\nQ 41.3125 65.921875 37.59375 65.921875 \r\nQ 27.828125 65.921875 22.671875 59.328125 \r\nQ 17.53125 52.734375 16.796875 39.40625 \r\nQ 19.671875 43.65625 24.015625 45.921875 \r\nQ 28.375 48.1875 33.59375 48.1875 \r\nQ 44.578125 48.1875 50.953125 41.515625 \r\nQ 57.328125 34.859375 57.328125 23.390625 \r\nQ 57.328125 12.15625 50.6875 5.359375 \r\nQ 44.046875 -1.421875 33.015625 -1.421875 \r\nQ 20.359375 -1.421875 13.671875 8.265625 \r\nQ 6.984375 17.96875 6.984375 36.375 \r\nQ 6.984375 53.65625 15.1875 63.9375 \r\nQ 23.390625 74.21875 37.203125 74.21875 \r\nQ 40.921875 74.21875 44.703125 73.484375 \r\nQ 48.484375 72.75 52.59375 71.296875 \r\nz\r\n\" id=\"DejaVuSans-54\"/>\r\n       </defs>\r\n       <use xlink:href=\"#DejaVuSans-49\"/>\r\n       <use x=\"63.623047\" xlink:href=\"#DejaVuSans-54\"/>\r\n       <use x=\"127.246094\" xlink:href=\"#DejaVuSans-48\"/>\r\n      </g>\r\n     </g>\r\n    </g>\r\n    <g id=\"xtick_4\">\r\n     <g id=\"line2d_4\">\r\n      <g>\r\n       <use style=\"stroke:#000000;stroke-width:0.8;\" x=\"244.589614\" xlink:href=\"#m8342dea9fe\" y=\"224.64\"/>\r\n      </g>\r\n     </g>\r\n     <g id=\"text_4\">\r\n      <!-- 180 -->\r\n      <g transform=\"translate(235.045864 239.238438)scale(0.1 -0.1)\">\r\n       <defs>\r\n        <path d=\"M 31.78125 34.625 \r\nQ 24.75 34.625 20.71875 30.859375 \r\nQ 16.703125 27.09375 16.703125 20.515625 \r\nQ 16.703125 13.921875 20.71875 10.15625 \r\nQ 24.75 6.390625 31.78125 6.390625 \r\nQ 38.8125 6.390625 42.859375 10.171875 \r\nQ 46.921875 13.96875 46.921875 20.515625 \r\nQ 46.921875 27.09375 42.890625 30.859375 \r\nQ 38.875 34.625 31.78125 34.625 \r\nz\r\nM 21.921875 38.8125 \r\nQ 15.578125 40.375 12.03125 44.71875 \r\nQ 8.5 49.078125 8.5 55.328125 \r\nQ 8.5 64.0625 14.71875 69.140625 \r\nQ 20.953125 74.21875 31.78125 74.21875 \r\nQ 42.671875 74.21875 48.875 69.140625 \r\nQ 55.078125 64.0625 55.078125 55.328125 \r\nQ 55.078125 49.078125 51.53125 44.71875 \r\nQ 48 40.375 41.703125 38.8125 \r\nQ 48.828125 37.15625 52.796875 32.3125 \r\nQ 56.78125 27.484375 56.78125 20.515625 \r\nQ 56.78125 9.90625 50.3125 4.234375 \r\nQ 43.84375 -1.421875 31.78125 -1.421875 \r\nQ 19.734375 -1.421875 13.25 4.234375 \r\nQ 6.78125 9.90625 6.78125 20.515625 \r\nQ 6.78125 27.484375 10.78125 32.3125 \r\nQ 14.796875 37.15625 21.921875 38.8125 \r\nz\r\nM 18.3125 54.390625 \r\nQ 18.3125 48.734375 21.84375 45.5625 \r\nQ 25.390625 42.390625 31.78125 42.390625 \r\nQ 38.140625 42.390625 41.71875 45.5625 \r\nQ 45.3125 48.734375 45.3125 54.390625 \r\nQ 45.3125 60.0625 41.71875 63.234375 \r\nQ 38.140625 66.40625 31.78125 66.40625 \r\nQ 25.390625 66.40625 21.84375 63.234375 \r\nQ 18.3125 60.0625 18.3125 54.390625 \r\nz\r\n\" id=\"DejaVuSans-56\"/>\r\n       </defs>\r\n       <use xlink:href=\"#DejaVuSans-49\"/>\r\n       <use x=\"63.623047\" xlink:href=\"#DejaVuSans-56\"/>\r\n       <use x=\"127.246094\" xlink:href=\"#DejaVuSans-48\"/>\r\n      </g>\r\n     </g>\r\n    </g>\r\n    <g id=\"xtick_5\">\r\n     <g id=\"line2d_5\">\r\n      <g>\r\n       <use style=\"stroke:#000000;stroke-width:0.8;\" x=\"310.040071\" xlink:href=\"#m8342dea9fe\" y=\"224.64\"/>\r\n      </g>\r\n     </g>\r\n     <g id=\"text_5\">\r\n      <!-- 200 -->\r\n      <g transform=\"translate(300.496321 239.238438)scale(0.1 -0.1)\">\r\n       <use xlink:href=\"#DejaVuSans-50\"/>\r\n       <use x=\"63.623047\" xlink:href=\"#DejaVuSans-48\"/>\r\n       <use x=\"127.246094\" xlink:href=\"#DejaVuSans-48\"/>\r\n      </g>\r\n     </g>\r\n    </g>\r\n    <g id=\"xtick_6\">\r\n     <g id=\"line2d_6\">\r\n      <g>\r\n       <use style=\"stroke:#000000;stroke-width:0.8;\" x=\"375.490527\" xlink:href=\"#m8342dea9fe\" y=\"224.64\"/>\r\n      </g>\r\n     </g>\r\n     <g id=\"text_6\">\r\n      <!-- 220 -->\r\n      <g transform=\"translate(365.946777 239.238438)scale(0.1 -0.1)\">\r\n       <use xlink:href=\"#DejaVuSans-50\"/>\r\n       <use x=\"63.623047\" xlink:href=\"#DejaVuSans-50\"/>\r\n       <use x=\"127.246094\" xlink:href=\"#DejaVuSans-48\"/>\r\n      </g>\r\n     </g>\r\n    </g>\r\n    <g id=\"text_7\">\r\n     <!-- Height -->\r\n     <g transform=\"translate(193.699219 252.916563)scale(0.1 -0.1)\">\r\n      <defs>\r\n       <path d=\"M 9.8125 72.90625 \r\nL 19.671875 72.90625 \r\nL 19.671875 43.015625 \r\nL 55.515625 43.015625 \r\nL 55.515625 72.90625 \r\nL 65.375 72.90625 \r\nL 65.375 0 \r\nL 55.515625 0 \r\nL 55.515625 34.71875 \r\nL 19.671875 34.71875 \r\nL 19.671875 0 \r\nL 9.8125 0 \r\nz\r\n\" id=\"DejaVuSans-72\"/>\r\n       <path d=\"M 56.203125 29.59375 \r\nL 56.203125 25.203125 \r\nL 14.890625 25.203125 \r\nQ 15.484375 15.921875 20.484375 11.0625 \r\nQ 25.484375 6.203125 34.421875 6.203125 \r\nQ 39.59375 6.203125 44.453125 7.46875 \r\nQ 49.3125 8.734375 54.109375 11.28125 \r\nL 54.109375 2.78125 \r\nQ 49.265625 0.734375 44.1875 -0.34375 \r\nQ 39.109375 -1.421875 33.890625 -1.421875 \r\nQ 20.796875 -1.421875 13.15625 6.1875 \r\nQ 5.515625 13.8125 5.515625 26.8125 \r\nQ 5.515625 40.234375 12.765625 48.109375 \r\nQ 20.015625 56 32.328125 56 \r\nQ 43.359375 56 49.78125 48.890625 \r\nQ 56.203125 41.796875 56.203125 29.59375 \r\nz\r\nM 47.21875 32.234375 \r\nQ 47.125 39.59375 43.09375 43.984375 \r\nQ 39.0625 48.390625 32.421875 48.390625 \r\nQ 24.90625 48.390625 20.390625 44.140625 \r\nQ 15.875 39.890625 15.1875 32.171875 \r\nz\r\n\" id=\"DejaVuSans-101\"/>\r\n       <path d=\"M 9.421875 54.6875 \r\nL 18.40625 54.6875 \r\nL 18.40625 0 \r\nL 9.421875 0 \r\nz\r\nM 9.421875 75.984375 \r\nL 18.40625 75.984375 \r\nL 18.40625 64.59375 \r\nL 9.421875 64.59375 \r\nz\r\n\" id=\"DejaVuSans-105\"/>\r\n       <path d=\"M 45.40625 27.984375 \r\nQ 45.40625 37.75 41.375 43.109375 \r\nQ 37.359375 48.484375 30.078125 48.484375 \r\nQ 22.859375 48.484375 18.828125 43.109375 \r\nQ 14.796875 37.75 14.796875 27.984375 \r\nQ 14.796875 18.265625 18.828125 12.890625 \r\nQ 22.859375 7.515625 30.078125 7.515625 \r\nQ 37.359375 7.515625 41.375 12.890625 \r\nQ 45.40625 18.265625 45.40625 27.984375 \r\nz\r\nM 54.390625 6.78125 \r\nQ 54.390625 -7.171875 48.1875 -13.984375 \r\nQ 42 -20.796875 29.203125 -20.796875 \r\nQ 24.46875 -20.796875 20.265625 -20.09375 \r\nQ 16.0625 -19.390625 12.109375 -17.921875 \r\nL 12.109375 -9.1875 \r\nQ 16.0625 -11.328125 19.921875 -12.34375 \r\nQ 23.78125 -13.375 27.78125 -13.375 \r\nQ 36.625 -13.375 41.015625 -8.765625 \r\nQ 45.40625 -4.15625 45.40625 5.171875 \r\nL 45.40625 9.625 \r\nQ 42.625 4.78125 38.28125 2.390625 \r\nQ 33.9375 0 27.875 0 \r\nQ 17.828125 0 11.671875 7.65625 \r\nQ 5.515625 15.328125 5.515625 27.984375 \r\nQ 5.515625 40.671875 11.671875 48.328125 \r\nQ 17.828125 56 27.875 56 \r\nQ 33.9375 56 38.28125 53.609375 \r\nQ 42.625 51.21875 45.40625 46.390625 \r\nL 45.40625 54.6875 \r\nL 54.390625 54.6875 \r\nz\r\n\" id=\"DejaVuSans-103\"/>\r\n       <path d=\"M 54.890625 33.015625 \r\nL 54.890625 0 \r\nL 45.90625 0 \r\nL 45.90625 32.71875 \r\nQ 45.90625 40.484375 42.875 44.328125 \r\nQ 39.84375 48.1875 33.796875 48.1875 \r\nQ 26.515625 48.1875 22.3125 43.546875 \r\nQ 18.109375 38.921875 18.109375 30.90625 \r\nL 18.109375 0 \r\nL 9.078125 0 \r\nL 9.078125 75.984375 \r\nL 18.109375 75.984375 \r\nL 18.109375 46.1875 \r\nQ 21.34375 51.125 25.703125 53.5625 \r\nQ 30.078125 56 35.796875 56 \r\nQ 45.21875 56 50.046875 50.171875 \r\nQ 54.890625 44.34375 54.890625 33.015625 \r\nz\r\n\" id=\"DejaVuSans-104\"/>\r\n       <path d=\"M 18.3125 70.21875 \r\nL 18.3125 54.6875 \r\nL 36.8125 54.6875 \r\nL 36.8125 47.703125 \r\nL 18.3125 47.703125 \r\nL 18.3125 18.015625 \r\nQ 18.3125 11.328125 20.140625 9.421875 \r\nQ 21.96875 7.515625 27.59375 7.515625 \r\nL 36.8125 7.515625 \r\nL 36.8125 0 \r\nL 27.59375 0 \r\nQ 17.1875 0 13.234375 3.875 \r\nQ 9.28125 7.765625 9.28125 18.015625 \r\nL 9.28125 47.703125 \r\nL 2.6875 47.703125 \r\nL 2.6875 54.6875 \r\nL 9.28125 54.6875 \r\nL 9.28125 70.21875 \r\nz\r\n\" id=\"DejaVuSans-116\"/>\r\n      </defs>\r\n      <use xlink:href=\"#DejaVuSans-72\"/>\r\n      <use x=\"75.195312\" xlink:href=\"#DejaVuSans-101\"/>\r\n      <use x=\"136.71875\" xlink:href=\"#DejaVuSans-105\"/>\r\n      <use x=\"164.501953\" xlink:href=\"#DejaVuSans-103\"/>\r\n      <use x=\"227.978516\" xlink:href=\"#DejaVuSans-104\"/>\r\n      <use x=\"291.357422\" xlink:href=\"#DejaVuSans-116\"/>\r\n     </g>\r\n    </g>\r\n   </g>\r\n   <g id=\"matplotlib.axis_2\">\r\n    <g id=\"ytick_1\">\r\n     <g id=\"line2d_7\">\r\n      <defs>\r\n       <path d=\"M 0 0 \r\nL -3.5 0 \r\n\" id=\"m210baef473\" style=\"stroke:#000000;stroke-width:0.8;\"/>\r\n      </defs>\r\n      <g>\r\n       <use style=\"stroke:#000000;stroke-width:0.8;\" x=\"42.828125\" xlink:href=\"#m210baef473\" y=\"224.64\"/>\r\n      </g>\r\n     </g>\r\n     <g id=\"text_8\">\r\n      <!-- 0.000 -->\r\n      <g transform=\"translate(7.2 228.439219)scale(0.1 -0.1)\">\r\n       <defs>\r\n        <path d=\"M 10.6875 12.40625 \r\nL 21 12.40625 \r\nL 21 0 \r\nL 10.6875 0 \r\nz\r\n\" id=\"DejaVuSans-46\"/>\r\n       </defs>\r\n       <use xlink:href=\"#DejaVuSans-48\"/>\r\n       <use x=\"63.623047\" xlink:href=\"#DejaVuSans-46\"/>\r\n       <use x=\"95.410156\" xlink:href=\"#DejaVuSans-48\"/>\r\n       <use x=\"159.033203\" xlink:href=\"#DejaVuSans-48\"/>\r\n       <use x=\"222.65625\" xlink:href=\"#DejaVuSans-48\"/>\r\n      </g>\r\n     </g>\r\n    </g>\r\n    <g id=\"ytick_2\">\r\n     <g id=\"line2d_8\">\r\n      <g>\r\n       <use style=\"stroke:#000000;stroke-width:0.8;\" x=\"42.828125\" xlink:href=\"#m210baef473\" y=\"181.004082\"/>\r\n      </g>\r\n     </g>\r\n     <g id=\"text_9\">\r\n      <!-- 0.005 -->\r\n      <g transform=\"translate(7.2 184.8033)scale(0.1 -0.1)\">\r\n       <defs>\r\n        <path d=\"M 10.796875 72.90625 \r\nL 49.515625 72.90625 \r\nL 49.515625 64.59375 \r\nL 19.828125 64.59375 \r\nL 19.828125 46.734375 \r\nQ 21.96875 47.46875 24.109375 47.828125 \r\nQ 26.265625 48.1875 28.421875 48.1875 \r\nQ 40.625 48.1875 47.75 41.5 \r\nQ 54.890625 34.8125 54.890625 23.390625 \r\nQ 54.890625 11.625 47.5625 5.09375 \r\nQ 40.234375 -1.421875 26.90625 -1.421875 \r\nQ 22.3125 -1.421875 17.546875 -0.640625 \r\nQ 12.796875 0.140625 7.71875 1.703125 \r\nL 7.71875 11.625 \r\nQ 12.109375 9.234375 16.796875 8.0625 \r\nQ 21.484375 6.890625 26.703125 6.890625 \r\nQ 35.15625 6.890625 40.078125 11.328125 \r\nQ 45.015625 15.765625 45.015625 23.390625 \r\nQ 45.015625 31 40.078125 35.4375 \r\nQ 35.15625 39.890625 26.703125 39.890625 \r\nQ 22.75 39.890625 18.8125 39.015625 \r\nQ 14.890625 38.140625 10.796875 36.28125 \r\nz\r\n\" id=\"DejaVuSans-53\"/>\r\n       </defs>\r\n       <use xlink:href=\"#DejaVuSans-48\"/>\r\n       <use x=\"63.623047\" xlink:href=\"#DejaVuSans-46\"/>\r\n       <use x=\"95.410156\" xlink:href=\"#DejaVuSans-48\"/>\r\n       <use x=\"159.033203\" xlink:href=\"#DejaVuSans-48\"/>\r\n       <use x=\"222.65625\" xlink:href=\"#DejaVuSans-53\"/>\r\n      </g>\r\n     </g>\r\n    </g>\r\n    <g id=\"ytick_3\">\r\n     <g id=\"line2d_9\">\r\n      <g>\r\n       <use style=\"stroke:#000000;stroke-width:0.8;\" x=\"42.828125\" xlink:href=\"#m210baef473\" y=\"137.368163\"/>\r\n      </g>\r\n     </g>\r\n     <g id=\"text_10\">\r\n      <!-- 0.010 -->\r\n      <g transform=\"translate(7.2 141.167382)scale(0.1 -0.1)\">\r\n       <use xlink:href=\"#DejaVuSans-48\"/>\r\n       <use x=\"63.623047\" xlink:href=\"#DejaVuSans-46\"/>\r\n       <use x=\"95.410156\" xlink:href=\"#DejaVuSans-48\"/>\r\n       <use x=\"159.033203\" xlink:href=\"#DejaVuSans-49\"/>\r\n       <use x=\"222.65625\" xlink:href=\"#DejaVuSans-48\"/>\r\n      </g>\r\n     </g>\r\n    </g>\r\n    <g id=\"ytick_4\">\r\n     <g id=\"line2d_10\">\r\n      <g>\r\n       <use style=\"stroke:#000000;stroke-width:0.8;\" x=\"42.828125\" xlink:href=\"#m210baef473\" y=\"93.732245\"/>\r\n      </g>\r\n     </g>\r\n     <g id=\"text_11\">\r\n      <!-- 0.015 -->\r\n      <g transform=\"translate(7.2 97.531464)scale(0.1 -0.1)\">\r\n       <use xlink:href=\"#DejaVuSans-48\"/>\r\n       <use x=\"63.623047\" xlink:href=\"#DejaVuSans-46\"/>\r\n       <use x=\"95.410156\" xlink:href=\"#DejaVuSans-48\"/>\r\n       <use x=\"159.033203\" xlink:href=\"#DejaVuSans-49\"/>\r\n       <use x=\"222.65625\" xlink:href=\"#DejaVuSans-53\"/>\r\n      </g>\r\n     </g>\r\n    </g>\r\n    <g id=\"ytick_5\">\r\n     <g id=\"line2d_11\">\r\n      <g>\r\n       <use style=\"stroke:#000000;stroke-width:0.8;\" x=\"42.828125\" xlink:href=\"#m210baef473\" y=\"50.096327\"/>\r\n      </g>\r\n     </g>\r\n     <g id=\"text_12\">\r\n      <!-- 0.020 -->\r\n      <g transform=\"translate(7.2 53.895545)scale(0.1 -0.1)\">\r\n       <use xlink:href=\"#DejaVuSans-48\"/>\r\n       <use x=\"63.623047\" xlink:href=\"#DejaVuSans-46\"/>\r\n       <use x=\"95.410156\" xlink:href=\"#DejaVuSans-48\"/>\r\n       <use x=\"159.033203\" xlink:href=\"#DejaVuSans-50\"/>\r\n       <use x=\"222.65625\" xlink:href=\"#DejaVuSans-48\"/>\r\n      </g>\r\n     </g>\r\n    </g>\r\n   </g>\r\n   <g id=\"line2d_12\">\r\n    <path clip-path=\"url(#p8f1b94fbbe)\" d=\"M 58.046307 224.307113 \r\nL 61.120687 224.085271 \r\nL 64.195067 223.738929 \r\nL 67.269447 223.213078 \r\nL 70.343827 222.436666 \r\nL 73.418208 221.321939 \r\nL 76.492588 219.76576 \r\nL 79.566968 217.653591 \r\nL 82.641348 214.866632 \r\nL 85.715728 211.292163 \r\nL 88.790108 206.836555 \r\nL 91.864489 201.43972 \r\nL 94.938869 195.089123 \r\nL 98.013249 187.831045 \r\nL 101.087629 179.776763 \r\nL 104.162009 171.101724 \r\nL 107.236389 162.036713 \r\nL 110.31077 152.851316 \r\nL 113.38515 143.831303 \r\nL 116.45953 135.252855 \r\nL 119.53391 127.357198 \r\nL 122.60829 120.329372 \r\nL 125.68267 114.28415 \r\nL 128.757051 109.260916 \r\nL 131.831431 105.227739 \r\nL 134.905811 102.09334 \r\nL 137.980191 99.724423 \r\nL 141.054571 97.965275 \r\nL 144.128951 96.656568 \r\nL 147.203332 95.650963 \r\nL 150.277712 94.824113 \r\nL 153.352092 94.080731 \r\nL 156.426472 93.356295 \r\nL 159.500852 92.61546 \r\nL 162.575232 91.848353 \r\nL 165.649613 91.065724 \r\nL 168.723993 90.293537 \r\nL 171.798373 89.567222 \r\nL 174.872753 88.92563 \r\nL 177.947133 88.404691 \r\nL 181.021513 88.030985 \r\nL 184.095894 87.815639 \r\nL 187.170274 87.74918 \r\nL 190.244654 87.798071 \r\nL 193.319034 87.903581 \r\nL 196.393414 87.983463 \r\nL 199.467794 87.93664 \r\nL 202.542175 87.650786 \r\nL 205.616555 87.012351 \r\nL 208.690935 85.91831 \r\nL 211.765315 84.288592 \r\nL 214.839695 82.077914 \r\nL 217.914075 79.28555 \r\nL 220.988456 75.961561 \r\nL 224.062836 72.208174 \r\nL 227.137216 68.175474 \r\nL 230.211596 64.051305 \r\nL 233.285976 60.046201 \r\nL 236.360356 56.375074 \r\nL 239.434737 53.238149 \r\nL 242.509117 50.80392 \r\nL 245.583497 49.196687 \r\nL 248.657877 48.49043 \r\nL 251.732257 48.709639 \r\nL 254.806637 49.836397 \r\nL 257.881018 51.821933 \r\nL 260.955398 54.600206 \r\nL 264.029778 58.100992 \r\nL 267.104158 62.260415 \r\nL 270.178538 67.027665 \r\nL 273.252918 72.367491 \r\nL 276.327299 78.258875 \r\nL 279.401679 84.690672 \r\nL 282.476059 91.655233 \r\nL 285.550439 99.14095 \r\nL 288.624819 107.124608 \r\nL 291.699199 115.564332 \r\nL 294.77358 124.393973 \r\nL 297.84796 133.519786 \r\nL 300.92234 142.82019 \r\nL 303.99672 152.14917 \r\nL 307.0711 161.343389 \r\nL 310.14548 170.232477 \r\nL 313.219861 178.651338 \r\nL 316.294241 186.452815 \r\nL 319.368621 193.518943 \r\nL 322.443001 199.769159 \r\nL 325.517381 205.164405 \r\nL 328.591761 209.706764 \r\nL 331.666142 213.435018 \r\nL 334.740522 216.41713 \r\nL 337.814902 218.740993 \r\nL 340.889282 220.504859 \r\nL 343.963662 221.808659 \r\nL 347.038042 222.747055 \r\nL 350.112423 223.404626 \r\nL 353.186803 223.853211 \r\nL 356.261183 224.151105 \r\nL 359.335563 224.343667 \r\nL 362.409943 224.464826 \r\n\" style=\"fill:none;stroke:#1f77b4;stroke-linecap:square;stroke-width:1.5;\"/>\r\n   </g>\r\n   <g id=\"line2d_13\">\r\n    <path clip-path=\"url(#p8f1b94fbbe)\" d=\"M 62.864648 224.483566 \r\nL 65.841688 224.369028 \r\nL 68.818728 224.183766 \r\nL 71.795768 223.893149 \r\nL 74.772808 223.450962 \r\nL 77.749848 222.798269 \r\nL 80.726888 221.863473 \r\nL 83.703928 220.564072 \r\nL 86.680967 218.810463 \r\nL 89.658007 216.51184 \r\nL 92.635047 213.583797 \r\nL 95.612087 209.956834 \r\nL 98.589127 205.584547 \r\nL 101.566167 200.450209 \r\nL 104.543207 194.570548 \r\nL 107.520247 187.996076 \r\nL 110.497287 180.807943 \r\nL 113.474327 173.112098 \r\nL 116.451367 165.032027 \r\nL 119.428407 156.701563 \r\nL 122.405447 148.259013 \r\nL 125.382487 139.843233 \r\nL 128.359527 131.591505 \r\nL 131.336567 123.638355 \r\nL 134.313607 116.114055 \r\nL 137.290646 109.141549 \r\nL 140.267686 102.831052 \r\nL 143.244726 97.27227 \r\nL 146.221766 92.525093 \r\nL 149.198806 88.610257 \r\nL 152.175846 85.501887 \r\nL 155.152886 83.123818 \r\nL 158.129926 81.351177 \r\nL 161.106966 80.018007 \r\nL 164.084006 78.930836 \r\nL 167.061046 77.887177 \r\nL 170.038086 76.69709 \r\nL 173.015126 75.205361 \r\nL 175.992166 73.311458 \r\nL 178.969206 70.984469 \r\nL 181.946246 68.270596 \r\nL 184.923286 65.291507 \r\nL 187.900325 62.232903 \r\nL 190.877365 59.323909 \r\nL 193.854405 56.809174 \r\nL 196.831445 54.916822 \r\nL 199.808485 53.826239 \r\nL 202.785525 53.640156 \r\nL 205.762565 54.365224 \r\nL 208.739605 55.904377 \r\nL 211.716645 58.062723 \r\nL 214.693685 60.566686 \r\nL 217.670725 63.094077 \r\nL 220.647765 65.311052 \r\nL 223.624805 66.910913 \r\nL 226.601845 67.649606 \r\nL 229.578885 67.373641 \r\nL 232.555925 66.037592 \r\nL 235.532964 63.710023 \r\nL 238.510004 60.568217 \r\nL 241.487044 56.883065 \r\nL 244.464084 52.996027 \r\nL 247.441124 49.290221 \r\nL 250.418164 46.157804 \r\nL 253.395204 43.966056 \r\nL 256.372244 43.025047 \r\nL 259.349284 43.560255 \r\nL 262.326324 45.693634 \r\nL 265.303364 49.436183 \r\nL 268.280404 54.693674 \r\nL 271.257444 61.285156 \r\nL 274.234484 68.971481 \r\nL 277.211524 77.489005 \r\nL 280.188564 86.582463 \r\nL 283.165604 96.031188 \r\nL 286.142643 105.664317 \r\nL 289.119683 115.363204 \r\nL 292.096723 125.052131 \r\nL 295.073763 134.680993 \r\nL 298.050803 144.205135 \r\nL 301.027843 153.56775 \r\nL 304.004883 162.689069 \r\nL 306.981923 171.464525 \r\nL 309.958963 179.771663 \r\nL 312.936003 187.483466 \r\nL 315.913043 194.484501 \r\nL 318.890083 200.686018 \r\nL 321.867123 206.03685 \r\nL 324.844163 210.528284 \r\nL 327.821203 214.192633 \r\nL 330.798243 217.096534 \r\nL 333.775283 219.330888 \r\nL 336.752322 220.999607 \r\nL 339.729362 222.209078 \r\nL 342.706402 223.059705 \r\nL 345.683442 223.640187 \r\nL 348.660482 224.024538 \r\nL 351.637522 224.271458 \r\nL 354.614562 224.42537 \r\nL 357.591602 224.518455 \r\n\" style=\"fill:none;stroke:#ff7f0e;stroke-linecap:square;stroke-width:1.5;\"/>\r\n   </g>\r\n   <g id=\"patch_17\">\r\n    <path d=\"M 42.828125 224.64 \r\nL 42.828125 7.2 \r\n\" style=\"fill:none;stroke:#000000;stroke-linecap:square;stroke-linejoin:miter;stroke-width:0.8;\"/>\r\n   </g>\r\n   <g id=\"patch_18\">\r\n    <path d=\"M 377.628125 224.64 \r\nL 377.628125 7.2 \r\n\" style=\"fill:none;stroke:#000000;stroke-linecap:square;stroke-linejoin:miter;stroke-width:0.8;\"/>\r\n   </g>\r\n   <g id=\"patch_19\">\r\n    <path d=\"M 42.828125 224.64 \r\nL 377.628125 224.64 \r\n\" style=\"fill:none;stroke:#000000;stroke-linecap:square;stroke-linejoin:miter;stroke-width:0.8;\"/>\r\n   </g>\r\n   <g id=\"patch_20\">\r\n    <path d=\"M 42.828125 7.2 \r\nL 377.628125 7.2 \r\n\" style=\"fill:none;stroke:#000000;stroke-linecap:square;stroke-linejoin:miter;stroke-width:0.8;\"/>\r\n   </g>\r\n  </g>\r\n </g>\r\n <defs>\r\n  <clipPath id=\"p8f1b94fbbe\">\r\n   <rect height=\"217.44\" width=\"334.8\" x=\"42.828125\" y=\"7.2\"/>\r\n  </clipPath>\r\n </defs>\r\n</svg>\r\n",
      "image/png": "[encoded data removed]"
     },
     "metadata": {
      "needs_background": "light"
     }
    }
   ],
   "source": [
    "import seaborn as sns\n",
    "# 전체 남녀 키의 분포도 비교\n",
    "sns.distplot(body_df[body_df[\"Gender\"] == 1][\"Height\"])\n",
    "sns.distplot(body_df[body_df[\"Gender\"] == 2][\"Height\"])"
   ]
  },
  {
   "cell_type": "code",
   "execution_count": 10,
   "metadata": {},
   "outputs": [
    {
     "output_type": "execute_result",
     "data": {
      "text/plain": "<AxesSubplot:xlabel='Weight'>"
     },
     "metadata": {},
     "execution_count": 10
    },
    {
     "output_type": "display_data",
     "data": {
      "text/plain": "<Figure size 432x288 with 1 Axes>",
      "image/svg+xml": "<?xml version=\"1.0\" encoding=\"utf-8\" standalone=\"no\"?>\r\n<!DOCTYPE svg PUBLIC \"-//W3C//DTD SVG 1.1//EN\"\r\n  \"http://www.w3.org/Graphics/SVG/1.1/DTD/svg11.dtd\">\r\n<!-- Created with matplotlib (https://matplotlib.org/) -->\r\n<svg height=\"262.19625pt\" version=\"1.1\" viewBox=\"0 0 392.043701 262.19625\" width=\"392.043701pt\" xmlns=\"http://www.w3.org/2000/svg\" xmlns:xlink=\"http://www.w3.org/1999/xlink\">\r\n <metadata>\r\n  <rdf:RDF xmlns:cc=\"http://creativecommons.org/ns#\" xmlns:dc=\"http://purl.org/dc/elements/1.1/\" xmlns:rdf=\"http://www.w3.org/1999/02/22-rdf-syntax-ns#\">\r\n   <cc:Work>\r\n    <dc:type rdf:resource=\"http://purl.org/dc/dcmitype/StillImage\"/>\r\n    <dc:date>2020-09-07T22:52:38.230904</dc:date>\r\n    <dc:format>image/svg+xml</dc:format>\r\n    <dc:creator>\r\n     <cc:Agent>\r\n      <dc:title>Matplotlib v3.3.1, https://matplotlib.org/</dc:title>\r\n     </cc:Agent>\r\n    </dc:creator>\r\n   </cc:Work>\r\n  </rdf:RDF>\r\n </metadata>\r\n <defs>\r\n  <style type=\"text/css\">*{stroke-linecap:butt;stroke-linejoin:round;}</style>\r\n </defs>\r\n <g id=\"figure_1\">\r\n  <g id=\"patch_1\">\r\n   <path d=\"M 0 262.19625 \r\nL 392.043701 262.19625 \r\nL 392.043701 0 \r\nL 0 0 \r\nz\r\n\" style=\"fill:none;\"/>\r\n  </g>\r\n  <g id=\"axes_1\">\r\n   <g id=\"patch_2\">\r\n    <path d=\"M 42.828125 224.64 \r\nL 377.628125 224.64 \r\nL 377.628125 7.2 \r\nL 42.828125 7.2 \r\nz\r\n\" style=\"fill:#ffffff;\"/>\r\n   </g>\r\n   <g id=\"patch_3\">\r\n    <path clip-path=\"url(#p8736a3a290)\" d=\"M 114.660226 224.64 \r\nL 141.96534 224.64 \r\nL 141.96534 66.860408 \r\nL 114.660226 66.860408 \r\nz\r\n\" style=\"fill:#1f77b4;opacity:0.4;\"/>\r\n   </g>\r\n   <g id=\"patch_4\">\r\n    <path clip-path=\"url(#p8736a3a290)\" d=\"M 141.96534 224.64 \r\nL 169.270454 224.64 \r\nL 169.270454 47.137959 \r\nL 141.96534 47.137959 \r\nz\r\n\" style=\"fill:#1f77b4;opacity:0.4;\"/>\r\n   </g>\r\n   <g id=\"patch_5\">\r\n    <path clip-path=\"url(#p8736a3a290)\" d=\"M 169.270454 224.64 \r\nL 196.575568 224.64 \r\nL 196.575568 61.929796 \r\nL 169.270454 61.929796 \r\nz\r\n\" style=\"fill:#1f77b4;opacity:0.4;\"/>\r\n   </g>\r\n   <g id=\"patch_6\">\r\n    <path clip-path=\"url(#p8736a3a290)\" d=\"M 196.575568 224.64 \r\nL 223.880682 224.64 \r\nL 223.880682 27.41551 \r\nL 196.575568 27.41551 \r\nz\r\n\" style=\"fill:#1f77b4;opacity:0.4;\"/>\r\n   </g>\r\n   <g id=\"patch_7\">\r\n    <path clip-path=\"url(#p8736a3a290)\" d=\"M 223.880682 224.64 \r\nL 251.185796 224.64 \r\nL 251.185796 96.444082 \r\nL 223.880682 96.444082 \r\nz\r\n\" style=\"fill:#1f77b4;opacity:0.4;\"/>\r\n   </g>\r\n   <g id=\"patch_8\">\r\n    <path clip-path=\"url(#p8736a3a290)\" d=\"M 251.185796 224.64 \r\nL 278.49091 224.64 \r\nL 278.49091 17.554286 \r\nL 251.185796 17.554286 \r\nz\r\n\" style=\"fill:#1f77b4;opacity:0.4;\"/>\r\n   </g>\r\n   <g id=\"patch_9\">\r\n    <path clip-path=\"url(#p8736a3a290)\" d=\"M 278.49091 224.64 \r\nL 305.796024 224.64 \r\nL 305.796024 47.137959 \r\nL 278.49091 47.137959 \r\nz\r\n\" style=\"fill:#1f77b4;opacity:0.4;\"/>\r\n   </g>\r\n   <g id=\"patch_10\">\r\n    <path clip-path=\"url(#p8736a3a290)\" d=\"M 114.660226 224.64 \r\nL 141.96534 224.64 \r\nL 141.96534 39.887059 \r\nL 114.660226 39.887059 \r\nz\r\n\" style=\"fill:#ff7f0e;opacity:0.4;\"/>\r\n   </g>\r\n   <g id=\"patch_11\">\r\n    <path clip-path=\"url(#p8736a3a290)\" d=\"M 141.96534 224.64 \r\nL 169.270454 224.64 \r\nL 169.270454 73.047843 \r\nL 141.96534 73.047843 \r\nz\r\n\" style=\"fill:#ff7f0e;opacity:0.4;\"/>\r\n   </g>\r\n   <g id=\"patch_12\">\r\n    <path clip-path=\"url(#p8736a3a290)\" d=\"M 169.270454 224.64 \r\nL 196.575568 224.64 \r\nL 196.575568 44.624314 \r\nL 169.270454 44.624314 \r\nz\r\n\" style=\"fill:#ff7f0e;opacity:0.4;\"/>\r\n   </g>\r\n   <g id=\"patch_13\">\r\n    <path clip-path=\"url(#p8736a3a290)\" d=\"M 196.575568 224.64 \r\nL 223.880682 224.64 \r\nL 223.880682 54.098824 \r\nL 196.575568 54.098824 \r\nz\r\n\" style=\"fill:#ff7f0e;opacity:0.4;\"/>\r\n   </g>\r\n   <g id=\"patch_14\">\r\n    <path clip-path=\"url(#p8736a3a290)\" d=\"M 223.880682 224.64 \r\nL 251.185796 224.64 \r\nL 251.185796 58.836078 \r\nL 223.880682 58.836078 \r\nz\r\n\" style=\"fill:#ff7f0e;opacity:0.4;\"/>\r\n   </g>\r\n   <g id=\"patch_15\">\r\n    <path clip-path=\"url(#p8736a3a290)\" d=\"M 251.185796 224.64 \r\nL 278.49091 224.64 \r\nL 278.49091 68.310588 \r\nL 251.185796 68.310588 \r\nz\r\n\" style=\"fill:#ff7f0e;opacity:0.4;\"/>\r\n   </g>\r\n   <g id=\"patch_16\">\r\n    <path clip-path=\"url(#p8736a3a290)\" d=\"M 278.49091 224.64 \r\nL 305.796024 224.64 \r\nL 305.796024 25.675294 \r\nL 278.49091 25.675294 \r\nz\r\n\" style=\"fill:#ff7f0e;opacity:0.4;\"/>\r\n   </g>\r\n   <g id=\"matplotlib.axis_1\">\r\n    <g id=\"xtick_1\">\r\n     <g id=\"line2d_1\">\r\n      <defs>\r\n       <path d=\"M 0 0 \r\nL 0 3.5 \r\n\" id=\"m47552d12ef\" style=\"stroke:#000000;stroke-width:0.8;\"/>\r\n      </defs>\r\n      <g>\r\n       <use style=\"stroke:#000000;stroke-width:0.8;\" x=\"71.220271\" xlink:href=\"#m47552d12ef\" y=\"224.64\"/>\r\n      </g>\r\n     </g>\r\n     <g id=\"text_1\">\r\n      <!-- 25 -->\r\n      <g transform=\"translate(64.857771 239.238437)scale(0.1 -0.1)\">\r\n       <defs>\r\n        <path d=\"M 19.1875 8.296875 \r\nL 53.609375 8.296875 \r\nL 53.609375 0 \r\nL 7.328125 0 \r\nL 7.328125 8.296875 \r\nQ 12.9375 14.109375 22.625 23.890625 \r\nQ 32.328125 33.6875 34.8125 36.53125 \r\nQ 39.546875 41.84375 41.421875 45.53125 \r\nQ 43.3125 49.21875 43.3125 52.78125 \r\nQ 43.3125 58.59375 39.234375 62.25 \r\nQ 35.15625 65.921875 28.609375 65.921875 \r\nQ 23.96875 65.921875 18.8125 64.3125 \r\nQ 13.671875 62.703125 7.8125 59.421875 \r\nL 7.8125 69.390625 \r\nQ 13.765625 71.78125 18.9375 73 \r\nQ 24.125 74.21875 28.421875 74.21875 \r\nQ 39.75 74.21875 46.484375 68.546875 \r\nQ 53.21875 62.890625 53.21875 53.421875 \r\nQ 53.21875 48.921875 51.53125 44.890625 \r\nQ 49.859375 40.875 45.40625 35.40625 \r\nQ 44.1875 33.984375 37.640625 27.21875 \r\nQ 31.109375 20.453125 19.1875 8.296875 \r\nz\r\n\" id=\"DejaVuSans-50\"/>\r\n        <path d=\"M 10.796875 72.90625 \r\nL 49.515625 72.90625 \r\nL 49.515625 64.59375 \r\nL 19.828125 64.59375 \r\nL 19.828125 46.734375 \r\nQ 21.96875 47.46875 24.109375 47.828125 \r\nQ 26.265625 48.1875 28.421875 48.1875 \r\nQ 40.625 48.1875 47.75 41.5 \r\nQ 54.890625 34.8125 54.890625 23.390625 \r\nQ 54.890625 11.625 47.5625 5.09375 \r\nQ 40.234375 -1.421875 26.90625 -1.421875 \r\nQ 22.3125 -1.421875 17.546875 -0.640625 \r\nQ 12.796875 0.140625 7.71875 1.703125 \r\nL 7.71875 11.625 \r\nQ 12.109375 9.234375 16.796875 8.0625 \r\nQ 21.484375 6.890625 26.703125 6.890625 \r\nQ 35.15625 6.890625 40.078125 11.328125 \r\nQ 45.015625 15.765625 45.015625 23.390625 \r\nQ 45.015625 31 40.078125 35.4375 \r\nQ 35.15625 39.890625 26.703125 39.890625 \r\nQ 22.75 39.890625 18.8125 39.015625 \r\nQ 14.890625 38.140625 10.796875 36.28125 \r\nz\r\n\" id=\"DejaVuSans-53\"/>\r\n       </defs>\r\n       <use xlink:href=\"#DejaVuSans-50\"/>\r\n       <use x=\"63.623047\" xlink:href=\"#DejaVuSans-53\"/>\r\n      </g>\r\n     </g>\r\n    </g>\r\n    <g id=\"xtick_2\">\r\n     <g id=\"line2d_2\">\r\n      <g>\r\n       <use style=\"stroke:#000000;stroke-width:0.8;\" x=\"114.660226\" xlink:href=\"#m47552d12ef\" y=\"224.64\"/>\r\n      </g>\r\n     </g>\r\n     <g id=\"text_2\">\r\n      <!-- 50 -->\r\n      <g transform=\"translate(108.297726 239.238437)scale(0.1 -0.1)\">\r\n       <defs>\r\n        <path d=\"M 31.78125 66.40625 \r\nQ 24.171875 66.40625 20.328125 58.90625 \r\nQ 16.5 51.421875 16.5 36.375 \r\nQ 16.5 21.390625 20.328125 13.890625 \r\nQ 24.171875 6.390625 31.78125 6.390625 \r\nQ 39.453125 6.390625 43.28125 13.890625 \r\nQ 47.125 21.390625 47.125 36.375 \r\nQ 47.125 51.421875 43.28125 58.90625 \r\nQ 39.453125 66.40625 31.78125 66.40625 \r\nz\r\nM 31.78125 74.21875 \r\nQ 44.046875 74.21875 50.515625 64.515625 \r\nQ 56.984375 54.828125 56.984375 36.375 \r\nQ 56.984375 17.96875 50.515625 8.265625 \r\nQ 44.046875 -1.421875 31.78125 -1.421875 \r\nQ 19.53125 -1.421875 13.0625 8.265625 \r\nQ 6.59375 17.96875 6.59375 36.375 \r\nQ 6.59375 54.828125 13.0625 64.515625 \r\nQ 19.53125 74.21875 31.78125 74.21875 \r\nz\r\n\" id=\"DejaVuSans-48\"/>\r\n       </defs>\r\n       <use xlink:href=\"#DejaVuSans-53\"/>\r\n       <use x=\"63.623047\" xlink:href=\"#DejaVuSans-48\"/>\r\n      </g>\r\n     </g>\r\n    </g>\r\n    <g id=\"xtick_3\">\r\n     <g id=\"line2d_3\">\r\n      <g>\r\n       <use style=\"stroke:#000000;stroke-width:0.8;\" x=\"158.10018\" xlink:href=\"#m47552d12ef\" y=\"224.64\"/>\r\n      </g>\r\n     </g>\r\n     <g id=\"text_3\">\r\n      <!-- 75 -->\r\n      <g transform=\"translate(151.73768 239.238437)scale(0.1 -0.1)\">\r\n       <defs>\r\n        <path d=\"M 8.203125 72.90625 \r\nL 55.078125 72.90625 \r\nL 55.078125 68.703125 \r\nL 28.609375 0 \r\nL 18.3125 0 \r\nL 43.21875 64.59375 \r\nL 8.203125 64.59375 \r\nz\r\n\" id=\"DejaVuSans-55\"/>\r\n       </defs>\r\n       <use xlink:href=\"#DejaVuSans-55\"/>\r\n       <use x=\"63.623047\" xlink:href=\"#DejaVuSans-53\"/>\r\n      </g>\r\n     </g>\r\n    </g>\r\n    <g id=\"xtick_4\">\r\n     <g id=\"line2d_4\">\r\n      <g>\r\n       <use style=\"stroke:#000000;stroke-width:0.8;\" x=\"201.540134\" xlink:href=\"#m47552d12ef\" y=\"224.64\"/>\r\n      </g>\r\n     </g>\r\n     <g id=\"text_4\">\r\n      <!-- 100 -->\r\n      <g transform=\"translate(191.996384 239.238437)scale(0.1 -0.1)\">\r\n       <defs>\r\n        <path d=\"M 12.40625 8.296875 \r\nL 28.515625 8.296875 \r\nL 28.515625 63.921875 \r\nL 10.984375 60.40625 \r\nL 10.984375 69.390625 \r\nL 28.421875 72.90625 \r\nL 38.28125 72.90625 \r\nL 38.28125 8.296875 \r\nL 54.390625 8.296875 \r\nL 54.390625 0 \r\nL 12.40625 0 \r\nz\r\n\" id=\"DejaVuSans-49\"/>\r\n       </defs>\r\n       <use xlink:href=\"#DejaVuSans-49\"/>\r\n       <use x=\"63.623047\" xlink:href=\"#DejaVuSans-48\"/>\r\n       <use x=\"127.246094\" xlink:href=\"#DejaVuSans-48\"/>\r\n      </g>\r\n     </g>\r\n    </g>\r\n    <g id=\"xtick_5\">\r\n     <g id=\"line2d_5\">\r\n      <g>\r\n       <use style=\"stroke:#000000;stroke-width:0.8;\" x=\"244.980088\" xlink:href=\"#m47552d12ef\" y=\"224.64\"/>\r\n      </g>\r\n     </g>\r\n     <g id=\"text_5\">\r\n      <!-- 125 -->\r\n      <g transform=\"translate(235.436338 239.238437)scale(0.1 -0.1)\">\r\n       <use xlink:href=\"#DejaVuSans-49\"/>\r\n       <use x=\"63.623047\" xlink:href=\"#DejaVuSans-50\"/>\r\n       <use x=\"127.246094\" xlink:href=\"#DejaVuSans-53\"/>\r\n      </g>\r\n     </g>\r\n    </g>\r\n    <g id=\"xtick_6\">\r\n     <g id=\"line2d_6\">\r\n      <g>\r\n       <use style=\"stroke:#000000;stroke-width:0.8;\" x=\"288.420043\" xlink:href=\"#m47552d12ef\" y=\"224.64\"/>\r\n      </g>\r\n     </g>\r\n     <g id=\"text_6\">\r\n      <!-- 150 -->\r\n      <g transform=\"translate(278.876293 239.238437)scale(0.1 -0.1)\">\r\n       <use xlink:href=\"#DejaVuSans-49\"/>\r\n       <use x=\"63.623047\" xlink:href=\"#DejaVuSans-53\"/>\r\n       <use x=\"127.246094\" xlink:href=\"#DejaVuSans-48\"/>\r\n      </g>\r\n     </g>\r\n    </g>\r\n    <g id=\"xtick_7\">\r\n     <g id=\"line2d_7\">\r\n      <g>\r\n       <use style=\"stroke:#000000;stroke-width:0.8;\" x=\"331.859997\" xlink:href=\"#m47552d12ef\" y=\"224.64\"/>\r\n      </g>\r\n     </g>\r\n     <g id=\"text_7\">\r\n      <!-- 175 -->\r\n      <g transform=\"translate(322.316247 239.238437)scale(0.1 -0.1)\">\r\n       <use xlink:href=\"#DejaVuSans-49\"/>\r\n       <use x=\"63.623047\" xlink:href=\"#DejaVuSans-55\"/>\r\n       <use x=\"127.246094\" xlink:href=\"#DejaVuSans-53\"/>\r\n      </g>\r\n     </g>\r\n    </g>\r\n    <g id=\"xtick_8\">\r\n     <g id=\"line2d_8\">\r\n      <g>\r\n       <use style=\"stroke:#000000;stroke-width:0.8;\" x=\"375.299951\" xlink:href=\"#m47552d12ef\" y=\"224.64\"/>\r\n      </g>\r\n     </g>\r\n     <g id=\"text_8\">\r\n      <!-- 200 -->\r\n      <g transform=\"translate(365.756201 239.238437)scale(0.1 -0.1)\">\r\n       <use xlink:href=\"#DejaVuSans-50\"/>\r\n       <use x=\"63.623047\" xlink:href=\"#DejaVuSans-48\"/>\r\n       <use x=\"127.246094\" xlink:href=\"#DejaVuSans-48\"/>\r\n      </g>\r\n     </g>\r\n    </g>\r\n    <g id=\"text_9\">\r\n     <!-- Weight -->\r\n     <g transform=\"translate(192.809375 252.916562)scale(0.1 -0.1)\">\r\n      <defs>\r\n       <path d=\"M 3.328125 72.90625 \r\nL 13.28125 72.90625 \r\nL 28.609375 11.28125 \r\nL 43.890625 72.90625 \r\nL 54.984375 72.90625 \r\nL 70.3125 11.28125 \r\nL 85.59375 72.90625 \r\nL 95.609375 72.90625 \r\nL 77.296875 0 \r\nL 64.890625 0 \r\nL 49.515625 63.28125 \r\nL 33.984375 0 \r\nL 21.578125 0 \r\nz\r\n\" id=\"DejaVuSans-87\"/>\r\n       <path d=\"M 56.203125 29.59375 \r\nL 56.203125 25.203125 \r\nL 14.890625 25.203125 \r\nQ 15.484375 15.921875 20.484375 11.0625 \r\nQ 25.484375 6.203125 34.421875 6.203125 \r\nQ 39.59375 6.203125 44.453125 7.46875 \r\nQ 49.3125 8.734375 54.109375 11.28125 \r\nL 54.109375 2.78125 \r\nQ 49.265625 0.734375 44.1875 -0.34375 \r\nQ 39.109375 -1.421875 33.890625 -1.421875 \r\nQ 20.796875 -1.421875 13.15625 6.1875 \r\nQ 5.515625 13.8125 5.515625 26.8125 \r\nQ 5.515625 40.234375 12.765625 48.109375 \r\nQ 20.015625 56 32.328125 56 \r\nQ 43.359375 56 49.78125 48.890625 \r\nQ 56.203125 41.796875 56.203125 29.59375 \r\nz\r\nM 47.21875 32.234375 \r\nQ 47.125 39.59375 43.09375 43.984375 \r\nQ 39.0625 48.390625 32.421875 48.390625 \r\nQ 24.90625 48.390625 20.390625 44.140625 \r\nQ 15.875 39.890625 15.1875 32.171875 \r\nz\r\n\" id=\"DejaVuSans-101\"/>\r\n       <path d=\"M 9.421875 54.6875 \r\nL 18.40625 54.6875 \r\nL 18.40625 0 \r\nL 9.421875 0 \r\nz\r\nM 9.421875 75.984375 \r\nL 18.40625 75.984375 \r\nL 18.40625 64.59375 \r\nL 9.421875 64.59375 \r\nz\r\n\" id=\"DejaVuSans-105\"/>\r\n       <path d=\"M 45.40625 27.984375 \r\nQ 45.40625 37.75 41.375 43.109375 \r\nQ 37.359375 48.484375 30.078125 48.484375 \r\nQ 22.859375 48.484375 18.828125 43.109375 \r\nQ 14.796875 37.75 14.796875 27.984375 \r\nQ 14.796875 18.265625 18.828125 12.890625 \r\nQ 22.859375 7.515625 30.078125 7.515625 \r\nQ 37.359375 7.515625 41.375 12.890625 \r\nQ 45.40625 18.265625 45.40625 27.984375 \r\nz\r\nM 54.390625 6.78125 \r\nQ 54.390625 -7.171875 48.1875 -13.984375 \r\nQ 42 -20.796875 29.203125 -20.796875 \r\nQ 24.46875 -20.796875 20.265625 -20.09375 \r\nQ 16.0625 -19.390625 12.109375 -17.921875 \r\nL 12.109375 -9.1875 \r\nQ 16.0625 -11.328125 19.921875 -12.34375 \r\nQ 23.78125 -13.375 27.78125 -13.375 \r\nQ 36.625 -13.375 41.015625 -8.765625 \r\nQ 45.40625 -4.15625 45.40625 5.171875 \r\nL 45.40625 9.625 \r\nQ 42.625 4.78125 38.28125 2.390625 \r\nQ 33.9375 0 27.875 0 \r\nQ 17.828125 0 11.671875 7.65625 \r\nQ 5.515625 15.328125 5.515625 27.984375 \r\nQ 5.515625 40.671875 11.671875 48.328125 \r\nQ 17.828125 56 27.875 56 \r\nQ 33.9375 56 38.28125 53.609375 \r\nQ 42.625 51.21875 45.40625 46.390625 \r\nL 45.40625 54.6875 \r\nL 54.390625 54.6875 \r\nz\r\n\" id=\"DejaVuSans-103\"/>\r\n       <path d=\"M 54.890625 33.015625 \r\nL 54.890625 0 \r\nL 45.90625 0 \r\nL 45.90625 32.71875 \r\nQ 45.90625 40.484375 42.875 44.328125 \r\nQ 39.84375 48.1875 33.796875 48.1875 \r\nQ 26.515625 48.1875 22.3125 43.546875 \r\nQ 18.109375 38.921875 18.109375 30.90625 \r\nL 18.109375 0 \r\nL 9.078125 0 \r\nL 9.078125 75.984375 \r\nL 18.109375 75.984375 \r\nL 18.109375 46.1875 \r\nQ 21.34375 51.125 25.703125 53.5625 \r\nQ 30.078125 56 35.796875 56 \r\nQ 45.21875 56 50.046875 50.171875 \r\nQ 54.890625 44.34375 54.890625 33.015625 \r\nz\r\n\" id=\"DejaVuSans-104\"/>\r\n       <path d=\"M 18.3125 70.21875 \r\nL 18.3125 54.6875 \r\nL 36.8125 54.6875 \r\nL 36.8125 47.703125 \r\nL 18.3125 47.703125 \r\nL 18.3125 18.015625 \r\nQ 18.3125 11.328125 20.140625 9.421875 \r\nQ 21.96875 7.515625 27.59375 7.515625 \r\nL 36.8125 7.515625 \r\nL 36.8125 0 \r\nL 27.59375 0 \r\nQ 17.1875 0 13.234375 3.875 \r\nQ 9.28125 7.765625 9.28125 18.015625 \r\nL 9.28125 47.703125 \r\nL 2.6875 47.703125 \r\nL 2.6875 54.6875 \r\nL 9.28125 54.6875 \r\nL 9.28125 70.21875 \r\nz\r\n\" id=\"DejaVuSans-116\"/>\r\n      </defs>\r\n      <use xlink:href=\"#DejaVuSans-87\"/>\r\n      <use x=\"93.001953\" xlink:href=\"#DejaVuSans-101\"/>\r\n      <use x=\"154.525391\" xlink:href=\"#DejaVuSans-105\"/>\r\n      <use x=\"182.308594\" xlink:href=\"#DejaVuSans-103\"/>\r\n      <use x=\"245.785156\" xlink:href=\"#DejaVuSans-104\"/>\r\n      <use x=\"309.164062\" xlink:href=\"#DejaVuSans-116\"/>\r\n     </g>\r\n    </g>\r\n   </g>\r\n   <g id=\"matplotlib.axis_2\">\r\n    <g id=\"ytick_1\">\r\n     <g id=\"line2d_9\">\r\n      <defs>\r\n       <path d=\"M 0 0 \r\nL -3.5 0 \r\n\" id=\"mdb1b885164\" style=\"stroke:#000000;stroke-width:0.8;\"/>\r\n      </defs>\r\n      <g>\r\n       <use style=\"stroke:#000000;stroke-width:0.8;\" x=\"42.828125\" xlink:href=\"#mdb1b885164\" y=\"224.64\"/>\r\n      </g>\r\n     </g>\r\n     <g id=\"text_10\">\r\n      <!-- 0.000 -->\r\n      <g transform=\"translate(7.2 228.439219)scale(0.1 -0.1)\">\r\n       <defs>\r\n        <path d=\"M 10.6875 12.40625 \r\nL 21 12.40625 \r\nL 21 0 \r\nL 10.6875 0 \r\nz\r\n\" id=\"DejaVuSans-46\"/>\r\n       </defs>\r\n       <use xlink:href=\"#DejaVuSans-48\"/>\r\n       <use x=\"63.623047\" xlink:href=\"#DejaVuSans-46\"/>\r\n       <use x=\"95.410156\" xlink:href=\"#DejaVuSans-48\"/>\r\n       <use x=\"159.033203\" xlink:href=\"#DejaVuSans-48\"/>\r\n       <use x=\"222.65625\" xlink:href=\"#DejaVuSans-48\"/>\r\n      </g>\r\n     </g>\r\n    </g>\r\n    <g id=\"ytick_2\">\r\n     <g id=\"line2d_10\">\r\n      <g>\r\n       <use style=\"stroke:#000000;stroke-width:0.8;\" x=\"42.828125\" xlink:href=\"#mdb1b885164\" y=\"186.674286\"/>\r\n      </g>\r\n     </g>\r\n     <g id=\"text_11\">\r\n      <!-- 0.002 -->\r\n      <g transform=\"translate(7.2 190.473504)scale(0.1 -0.1)\">\r\n       <use xlink:href=\"#DejaVuSans-48\"/>\r\n       <use x=\"63.623047\" xlink:href=\"#DejaVuSans-46\"/>\r\n       <use x=\"95.410156\" xlink:href=\"#DejaVuSans-48\"/>\r\n       <use x=\"159.033203\" xlink:href=\"#DejaVuSans-48\"/>\r\n       <use x=\"222.65625\" xlink:href=\"#DejaVuSans-50\"/>\r\n      </g>\r\n     </g>\r\n    </g>\r\n    <g id=\"ytick_3\">\r\n     <g id=\"line2d_11\">\r\n      <g>\r\n       <use style=\"stroke:#000000;stroke-width:0.8;\" x=\"42.828125\" xlink:href=\"#mdb1b885164\" y=\"148.708571\"/>\r\n      </g>\r\n     </g>\r\n     <g id=\"text_12\">\r\n      <!-- 0.004 -->\r\n      <g transform=\"translate(7.2 152.50779)scale(0.1 -0.1)\">\r\n       <defs>\r\n        <path d=\"M 37.796875 64.3125 \r\nL 12.890625 25.390625 \r\nL 37.796875 25.390625 \r\nz\r\nM 35.203125 72.90625 \r\nL 47.609375 72.90625 \r\nL 47.609375 25.390625 \r\nL 58.015625 25.390625 \r\nL 58.015625 17.1875 \r\nL 47.609375 17.1875 \r\nL 47.609375 0 \r\nL 37.796875 0 \r\nL 37.796875 17.1875 \r\nL 4.890625 17.1875 \r\nL 4.890625 26.703125 \r\nz\r\n\" id=\"DejaVuSans-52\"/>\r\n       </defs>\r\n       <use xlink:href=\"#DejaVuSans-48\"/>\r\n       <use x=\"63.623047\" xlink:href=\"#DejaVuSans-46\"/>\r\n       <use x=\"95.410156\" xlink:href=\"#DejaVuSans-48\"/>\r\n       <use x=\"159.033203\" xlink:href=\"#DejaVuSans-48\"/>\r\n       <use x=\"222.65625\" xlink:href=\"#DejaVuSans-52\"/>\r\n      </g>\r\n     </g>\r\n    </g>\r\n    <g id=\"ytick_4\">\r\n     <g id=\"line2d_12\">\r\n      <g>\r\n       <use style=\"stroke:#000000;stroke-width:0.8;\" x=\"42.828125\" xlink:href=\"#mdb1b885164\" y=\"110.742857\"/>\r\n      </g>\r\n     </g>\r\n     <g id=\"text_13\">\r\n      <!-- 0.006 -->\r\n      <g transform=\"translate(7.2 114.542076)scale(0.1 -0.1)\">\r\n       <defs>\r\n        <path d=\"M 33.015625 40.375 \r\nQ 26.375 40.375 22.484375 35.828125 \r\nQ 18.609375 31.296875 18.609375 23.390625 \r\nQ 18.609375 15.53125 22.484375 10.953125 \r\nQ 26.375 6.390625 33.015625 6.390625 \r\nQ 39.65625 6.390625 43.53125 10.953125 \r\nQ 47.40625 15.53125 47.40625 23.390625 \r\nQ 47.40625 31.296875 43.53125 35.828125 \r\nQ 39.65625 40.375 33.015625 40.375 \r\nz\r\nM 52.59375 71.296875 \r\nL 52.59375 62.3125 \r\nQ 48.875 64.0625 45.09375 64.984375 \r\nQ 41.3125 65.921875 37.59375 65.921875 \r\nQ 27.828125 65.921875 22.671875 59.328125 \r\nQ 17.53125 52.734375 16.796875 39.40625 \r\nQ 19.671875 43.65625 24.015625 45.921875 \r\nQ 28.375 48.1875 33.59375 48.1875 \r\nQ 44.578125 48.1875 50.953125 41.515625 \r\nQ 57.328125 34.859375 57.328125 23.390625 \r\nQ 57.328125 12.15625 50.6875 5.359375 \r\nQ 44.046875 -1.421875 33.015625 -1.421875 \r\nQ 20.359375 -1.421875 13.671875 8.265625 \r\nQ 6.984375 17.96875 6.984375 36.375 \r\nQ 6.984375 53.65625 15.1875 63.9375 \r\nQ 23.390625 74.21875 37.203125 74.21875 \r\nQ 40.921875 74.21875 44.703125 73.484375 \r\nQ 48.484375 72.75 52.59375 71.296875 \r\nz\r\n\" id=\"DejaVuSans-54\"/>\r\n       </defs>\r\n       <use xlink:href=\"#DejaVuSans-48\"/>\r\n       <use x=\"63.623047\" xlink:href=\"#DejaVuSans-46\"/>\r\n       <use x=\"95.410156\" xlink:href=\"#DejaVuSans-48\"/>\r\n       <use x=\"159.033203\" xlink:href=\"#DejaVuSans-48\"/>\r\n       <use x=\"222.65625\" xlink:href=\"#DejaVuSans-54\"/>\r\n      </g>\r\n     </g>\r\n    </g>\r\n    <g id=\"ytick_5\">\r\n     <g id=\"line2d_13\">\r\n      <g>\r\n       <use style=\"stroke:#000000;stroke-width:0.8;\" x=\"42.828125\" xlink:href=\"#mdb1b885164\" y=\"72.777143\"/>\r\n      </g>\r\n     </g>\r\n     <g id=\"text_14\">\r\n      <!-- 0.008 -->\r\n      <g transform=\"translate(7.2 76.576362)scale(0.1 -0.1)\">\r\n       <defs>\r\n        <path d=\"M 31.78125 34.625 \r\nQ 24.75 34.625 20.71875 30.859375 \r\nQ 16.703125 27.09375 16.703125 20.515625 \r\nQ 16.703125 13.921875 20.71875 10.15625 \r\nQ 24.75 6.390625 31.78125 6.390625 \r\nQ 38.8125 6.390625 42.859375 10.171875 \r\nQ 46.921875 13.96875 46.921875 20.515625 \r\nQ 46.921875 27.09375 42.890625 30.859375 \r\nQ 38.875 34.625 31.78125 34.625 \r\nz\r\nM 21.921875 38.8125 \r\nQ 15.578125 40.375 12.03125 44.71875 \r\nQ 8.5 49.078125 8.5 55.328125 \r\nQ 8.5 64.0625 14.71875 69.140625 \r\nQ 20.953125 74.21875 31.78125 74.21875 \r\nQ 42.671875 74.21875 48.875 69.140625 \r\nQ 55.078125 64.0625 55.078125 55.328125 \r\nQ 55.078125 49.078125 51.53125 44.71875 \r\nQ 48 40.375 41.703125 38.8125 \r\nQ 48.828125 37.15625 52.796875 32.3125 \r\nQ 56.78125 27.484375 56.78125 20.515625 \r\nQ 56.78125 9.90625 50.3125 4.234375 \r\nQ 43.84375 -1.421875 31.78125 -1.421875 \r\nQ 19.734375 -1.421875 13.25 4.234375 \r\nQ 6.78125 9.90625 6.78125 20.515625 \r\nQ 6.78125 27.484375 10.78125 32.3125 \r\nQ 14.796875 37.15625 21.921875 38.8125 \r\nz\r\nM 18.3125 54.390625 \r\nQ 18.3125 48.734375 21.84375 45.5625 \r\nQ 25.390625 42.390625 31.78125 42.390625 \r\nQ 38.140625 42.390625 41.71875 45.5625 \r\nQ 45.3125 48.734375 45.3125 54.390625 \r\nQ 45.3125 60.0625 41.71875 63.234375 \r\nQ 38.140625 66.40625 31.78125 66.40625 \r\nQ 25.390625 66.40625 21.84375 63.234375 \r\nQ 18.3125 60.0625 18.3125 54.390625 \r\nz\r\n\" id=\"DejaVuSans-56\"/>\r\n       </defs>\r\n       <use xlink:href=\"#DejaVuSans-48\"/>\r\n       <use x=\"63.623047\" xlink:href=\"#DejaVuSans-46\"/>\r\n       <use x=\"95.410156\" xlink:href=\"#DejaVuSans-48\"/>\r\n       <use x=\"159.033203\" xlink:href=\"#DejaVuSans-48\"/>\r\n       <use x=\"222.65625\" xlink:href=\"#DejaVuSans-56\"/>\r\n      </g>\r\n     </g>\r\n    </g>\r\n    <g id=\"ytick_6\">\r\n     <g id=\"line2d_14\">\r\n      <g>\r\n       <use style=\"stroke:#000000;stroke-width:0.8;\" x=\"42.828125\" xlink:href=\"#mdb1b885164\" y=\"34.811429\"/>\r\n      </g>\r\n     </g>\r\n     <g id=\"text_15\">\r\n      <!-- 0.010 -->\r\n      <g transform=\"translate(7.2 38.610647)scale(0.1 -0.1)\">\r\n       <use xlink:href=\"#DejaVuSans-48\"/>\r\n       <use x=\"63.623047\" xlink:href=\"#DejaVuSans-46\"/>\r\n       <use x=\"95.410156\" xlink:href=\"#DejaVuSans-48\"/>\r\n       <use x=\"159.033203\" xlink:href=\"#DejaVuSans-49\"/>\r\n       <use x=\"222.65625\" xlink:href=\"#DejaVuSans-48\"/>\r\n      </g>\r\n     </g>\r\n    </g>\r\n   </g>\r\n   <g id=\"line2d_15\">\r\n    <path clip-path=\"url(#p8736a3a290)\" d=\"M 59.551141 224.343688 \r\nL 62.59512 224.14516 \r\nL 65.6391 223.834303 \r\nL 68.683079 223.360777 \r\nL 71.727059 222.659045 \r\nL 74.771038 221.64737 \r\nL 77.815018 220.228485 \r\nL 80.858997 218.292558 \r\nL 83.902977 215.722976 \r\nL 86.946956 212.405058 \r\nL 89.990936 208.237332 \r\nL 93.034915 203.144415 \r\nL 96.078895 197.089909 \r\nL 99.122874 190.087348 \r\nL 102.166854 182.207081 \r\nL 105.210833 173.577324 \r\nL 108.254813 164.378303 \r\nL 111.298792 154.829515 \r\nL 114.342771 145.171315 \r\nL 117.386751 135.643184 \r\nL 120.43073 126.461758 \r\nL 123.47471 117.801929 \r\nL 126.518689 109.783906 \r\nL 129.562669 102.468122 \r\nL 132.606648 95.858564 \r\nL 135.650628 89.913569 \r\nL 138.694607 84.561895 \r\nL 141.738587 79.720982 \r\nL 144.782566 75.314058 \r\nL 147.826546 71.283102 \r\nL 150.870525 67.595567 \r\nL 153.914505 64.244076 \r\nL 156.958484 61.239679 \r\nL 160.002464 58.600567 \r\nL 163.046443 56.339005 \r\nL 166.090423 54.449578 \r\nL 169.134402 52.901566 \r\nL 172.178382 51.637345 \r\nL 175.222361 50.577487 \r\nL 178.26634 49.631768 \r\nL 181.31032 48.714083 \r\nL 184.354299 47.758403 \r\nL 187.398279 46.732677 \r\nL 190.442258 45.647922 \r\nL 193.486238 44.560637 \r\nL 196.530217 43.567798 \r\nL 199.574197 42.795001 \r\nL 202.618176 42.379334 \r\nL 205.662156 42.449385 \r\nL 208.706135 43.105123 \r\nL 211.750115 44.400345 \r\nL 214.794094 46.330005 \r\nL 217.838074 48.824038 \r\nL 220.882053 51.748504 \r\nL 223.926033 54.913998 \r\nL 226.970012 58.090513 \r\nL 230.013992 61.02728 \r\nL 233.057971 63.475699 \r\nL 236.101951 65.213222 \r\nL 239.14593 66.065987 \r\nL 242.18991 65.928116 \r\nL 245.233889 64.775782 \r\nL 248.277868 62.674527 \r\nL 251.321848 59.778787 \r\nL 254.365827 56.323322 \r\nL 257.409807 52.607045 \r\nL 260.453786 48.97075 \r\nL 263.497766 45.771045 \r\nL 266.541745 43.353447 \r\nL 269.585725 42.027668 \r\nL 272.629704 42.047733 \r\nL 275.673684 43.598631 \r\nL 278.717663 46.78995 \r\nL 281.761643 51.655739 \r\nL 284.805622 58.158961 \r\nL 287.849602 66.198555 \r\nL 290.893581 75.617403 \r\nL 293.937561 86.210265 \r\nL 296.98154 97.731621 \r\nL 300.02552 109.904106 \r\nL 303.069499 122.428511 \r\nL 306.113479 134.996076 \r\nL 309.157458 147.303103 \r\nL 312.201437 159.067037 \r\nL 315.245417 170.042373 \r\nL 318.289396 180.034352 \r\nL 321.333376 188.908491 \r\nL 324.377355 196.594624 \r\nL 327.421335 203.08498 \r\nL 330.465314 208.426847 \r\nL 333.509294 212.711171 \r\nL 336.553273 216.05892 \r\nL 339.597253 218.607136 \r\nL 342.641232 220.496328 \r\nL 345.685212 221.860369 \r\nL 348.729191 222.819446 \r\nL 351.773171 223.476083 \r\nL 354.81715 223.913823 \r\nL 357.86113 224.197949 \r\nL 360.905109 224.377499 \r\n\" style=\"fill:none;stroke:#1f77b4;stroke-linecap:square;stroke-width:1.5;\"/>\r\n   </g>\r\n   <g id=\"line2d_16\">\r\n    <path clip-path=\"url(#p8736a3a290)\" d=\"M 58.046307 224.291779 \r\nL 61.120687 224.063315 \r\nL 64.195067 223.708072 \r\nL 67.269447 223.170185 \r\nL 70.343827 222.377107 \r\nL 73.418208 221.238425 \r\nL 76.492588 219.646393 \r\nL 79.566968 217.478873 \r\nL 82.641348 214.605228 \r\nL 85.715728 210.895386 \r\nL 88.790108 206.231835 \r\nL 91.864489 200.523682 \r\nL 94.938869 193.721339 \r\nL 98.013249 185.829922 \r\nL 101.087629 176.91924 \r\nL 104.162009 167.128384 \r\nL 107.236389 156.663464 \r\nL 110.31077 145.787899 \r\nL 113.38515 134.805704 \r\nL 116.45953 124.039267 \r\nL 119.53391 113.803985 \r\nL 122.60829 104.38262 \r\nL 125.68267 96.002361 \r\nL 128.757051 88.817228 \r\nL 131.831431 82.897815 \r\nL 134.905811 78.229447 \r\nL 137.980191 74.718845 \r\nL 141.054571 72.208406 \r\nL 144.128951 70.496303 \r\nL 147.203332 69.359956 \r\nL 150.277712 68.579969 \r\nL 153.352092 67.961585 \r\nL 156.426472 67.351055 \r\nL 159.500852 66.645012 \r\nL 162.575232 65.792071 \r\nL 165.649613 64.78708 \r\nL 168.723993 63.659659 \r\nL 171.798373 62.459596 \r\nL 174.872753 61.242037 \r\nL 177.947133 60.055258 \r\nL 181.021513 58.93304 \r\nL 184.095894 57.892505 \r\nL 187.170274 56.937029 \r\nL 190.244654 56.0627 \r\nL 193.319034 55.266136 \r\nL 196.393414 54.551359 \r\nL 199.467794 53.933864 \r\nL 202.542175 53.440882 \r\nL 205.616555 53.107912 \r\nL 208.690935 52.972495 \r\nL 211.765315 53.066853 \r\nL 214.839695 53.411103 \r\nL 217.914075 54.008466 \r\nL 220.988456 54.843203 \r\nL 224.062836 55.881283 \r\nL 227.137216 57.073123 \r\nL 230.211596 58.357432 \r\nL 233.285976 59.665241 \r\nL 236.360356 60.92354 \r\nL 239.434737 62.058488 \r\nL 242.509117 62.998592 \r\nL 245.583497 63.67854 \r\nL 248.657877 64.04426 \r\nL 251.732257 64.059459 \r\nL 254.806637 63.713328 \r\nL 257.881018 63.028539 \r\nL 260.955398 62.06827 \r\nL 264.029778 60.940817 \r\nL 267.104158 59.800494 \r\nL 270.178538 58.843908 \r\nL 273.252918 58.301225 \r\nL 276.327299 58.422615 \r\nL 279.401679 59.46066 \r\nL 282.476059 61.649997 \r\nL 285.550439 65.185908 \r\nL 288.624819 70.20389 \r\nL 291.699199 76.762462 \r\nL 294.77358 84.831392 \r\nL 297.84796 94.287279 \r\nL 300.92234 104.917713 \r\nL 303.99672 116.434275 \r\nL 307.0711 128.493459 \r\nL 310.14548 140.72338 \r\nL 313.219861 152.753196 \r\nL 316.294241 164.241694 \r\nL 319.368621 174.901583 \r\nL 322.443001 184.516781 \r\nL 325.517381 192.951123 \r\nL 328.591761 200.148265 \r\nL 331.666142 206.123889 \r\nL 334.740522 210.952221 \r\nL 337.814902 214.74941 \r\nL 340.889282 217.656289 \r\nL 343.963662 219.822653 \r\nL 347.038042 221.394494 \r\nL 350.112423 222.504911 \r\nL 353.186803 223.268725 \r\nL 356.261183 223.780329 \r\nL 359.335563 224.114017 \r\nL 362.409943 224.325963 \r\n\" style=\"fill:none;stroke:#ff7f0e;stroke-linecap:square;stroke-width:1.5;\"/>\r\n   </g>\r\n   <g id=\"patch_17\">\r\n    <path d=\"M 42.828125 224.64 \r\nL 42.828125 7.2 \r\n\" style=\"fill:none;stroke:#000000;stroke-linecap:square;stroke-linejoin:miter;stroke-width:0.8;\"/>\r\n   </g>\r\n   <g id=\"patch_18\">\r\n    <path d=\"M 377.628125 224.64 \r\nL 377.628125 7.2 \r\n\" style=\"fill:none;stroke:#000000;stroke-linecap:square;stroke-linejoin:miter;stroke-width:0.8;\"/>\r\n   </g>\r\n   <g id=\"patch_19\">\r\n    <path d=\"M 42.828125 224.64 \r\nL 377.628125 224.64 \r\n\" style=\"fill:none;stroke:#000000;stroke-linecap:square;stroke-linejoin:miter;stroke-width:0.8;\"/>\r\n   </g>\r\n   <g id=\"patch_20\">\r\n    <path d=\"M 42.828125 7.2 \r\nL 377.628125 7.2 \r\n\" style=\"fill:none;stroke:#000000;stroke-linecap:square;stroke-linejoin:miter;stroke-width:0.8;\"/>\r\n   </g>\r\n  </g>\r\n </g>\r\n <defs>\r\n  <clipPath id=\"p8736a3a290\">\r\n   <rect height=\"217.44\" width=\"334.8\" x=\"42.828125\" y=\"7.2\"/>\r\n  </clipPath>\r\n </defs>\r\n</svg>\r\n",
      "image/png": "[encoded data removed]"
     },
     "metadata": {
      "needs_background": "light"
     }
    }
   ],
   "source": [
    "# 전체 남녀 체중의 분포도 비교\n",
    "sns.distplot(body_df[body_df[\"Gender\"] == 1][\"Weight\"])\n",
    "sns.distplot(body_df[body_df[\"Gender\"] == 2][\"Weight\"])"
   ]
  },
  {
   "cell_type": "markdown",
   "metadata": {},
   "source": [
    "* train set과 test set을 나누어 적합"
   ]
  },
  {
   "cell_type": "code",
   "execution_count": 11,
   "metadata": {},
   "outputs": [],
   "source": [
    "X_train, X_test, y_train, y_test = train_test_split(body_data, body_target, test_size=0.2, random_state=11)"
   ]
  },
  {
   "cell_type": "code",
   "execution_count": 12,
   "metadata": {},
   "outputs": [
    {
     "output_type": "execute_result",
     "data": {
      "text/plain": "DecisionTreeClassifier(random_state=11)"
     },
     "metadata": {},
     "execution_count": 12
    }
   ],
   "source": [
    "# DecisionTreeClassifier 객체 생성 \n",
    "dt_clf = DecisionTreeClassifier(random_state=11)\n",
    "\n",
    "# 학습 수행 \n",
    "dt_clf.fit(X_train, y_train)"
   ]
  },
  {
   "cell_type": "code",
   "execution_count": 13,
   "metadata": {},
   "outputs": [],
   "source": [
    "# X_test로 의사결정트리 진행하여 pred의 그 결과 값 저장\n",
    "pred = dt_clf.predict(X_test)"
   ]
  },
  {
   "cell_type": "code",
   "execution_count": 14,
   "metadata": {
    "tags": []
   },
   "outputs": [
    {
     "output_type": "stream",
     "name": "stdout",
     "text": "100\n     Height  Weight\n247     142     159\n239     146     110\n70      153      51\n136     190     156\n387     160      83\n..      ...     ...\n230     186     137\n487     187      80\n153     168     140\n290     156      74\n21      153     149\n\n[100 rows x 2 columns]\n"
    }
   ],
   "source": [
    "print(len(X_test))\n",
    "print(X_test)"
   ]
  },
  {
   "cell_type": "code",
   "execution_count": 15,
   "metadata": {},
   "outputs": [
    {
     "output_type": "execute_result",
     "data": {
      "text/plain": "array([2, 2, 1, 1, 2, 1, 2, 2, 1, 1, 2, 2, 1, 1, 1, 2, 2, 2, 1, 1, 2, 1,\n       1, 1, 1, 2, 1, 2, 1, 2, 1, 2, 2, 1, 1, 1, 1, 2, 1, 2, 2, 1, 2, 1,\n       1, 1, 2, 2, 1, 1, 1, 1, 2, 2, 2, 2, 2, 2, 2, 1, 1, 1, 1, 1, 2, 1,\n       1, 1, 1, 2, 1, 1, 1, 1, 1, 1, 1, 1, 1, 2, 2, 2, 1, 2, 1, 1, 2, 1,\n       2, 2, 1, 2, 1, 1, 2, 1, 2, 2, 2, 2], dtype=int64)"
     },
     "metadata": {},
     "execution_count": 15
    }
   ],
   "source": [
    "pred"
   ]
  },
  {
   "cell_type": "code",
   "execution_count": 16,
   "metadata": {
    "tags": []
   },
   "outputs": [
    {
     "output_type": "stream",
     "name": "stdout",
     "text": "예측 정확도: 0.4800\n"
    }
   ],
   "source": [
    "# 예상과 비슷하게 0.5 정도의 예측 정확도를 나타냄\n",
    "from sklearn.metrics import accuracy_score\n",
    "print('예측 정확도: {0:.4f}'.format(accuracy_score(y_test,pred)))"
   ]
  },
  {
   "cell_type": "markdown",
   "metadata": {},
   "source": [
    "* k fold 검정 실시"
   ]
  },
  {
   "cell_type": "code",
   "execution_count": 17,
   "metadata": {
    "tags": []
   },
   "outputs": [
    {
     "output_type": "stream",
     "name": "stdout",
     "text": "바디 데이터 세트 크기: 500\n"
    }
   ],
   "source": [
    "# kfold 검정\n",
    "from sklearn.tree import DecisionTreeClassifier\n",
    "from sklearn.metrics import accuracy_score\n",
    "from sklearn.model_selection import KFold\n",
    "import numpy as np\n",
    "\n",
    "features = body_data.to_numpy()\n",
    "label = body_target.to_numpy()\n",
    "dt_clf = DecisionTreeClassifier(random_state=156)\n",
    "\n",
    "# 5개의 폴드 세트로 분리하는 KFold 객체와 폴드 세트별 정확도를 담을 리스트 객체 생성.\n",
    "kfold = KFold(n_splits=5)\n",
    "cv_accuracy = []\n",
    "print('바디 데이터 세트 크기:',features.shape[0])"
   ]
  },
  {
   "cell_type": "code",
   "execution_count": 18,
   "metadata": {
    "tags": []
   },
   "outputs": [
    {
     "output_type": "error",
     "ename": "NameError",
     "evalue": "name 'train_index' is not defined",
     "traceback": [
      "\u001b[1;31m---------------------------------------------------------------------------\u001b[0m",
      "\u001b[1;31mNameError\u001b[0m                                 Traceback (most recent call last)",
      "\u001b[1;32m<ipython-input-18-9a6696eabde7>\u001b[0m in \u001b[0;36m<module>\u001b[1;34m\u001b[0m\n\u001b[1;32m----> 1\u001b[1;33m \u001b[0mX_train\u001b[0m\u001b[1;33m,\u001b[0m \u001b[0mX_test\u001b[0m \u001b[1;33m=\u001b[0m \u001b[0mfeatures\u001b[0m\u001b[1;33m[\u001b[0m\u001b[0mtrain_index\u001b[0m\u001b[1;33m]\u001b[0m\u001b[1;33m,\u001b[0m \u001b[0mfeatures\u001b[0m\u001b[1;33m[\u001b[0m\u001b[0mtest_index\u001b[0m\u001b[1;33m]\u001b[0m\u001b[1;33m\u001b[0m\u001b[1;33m\u001b[0m\u001b[0m\n\u001b[0m\u001b[0;32m      2\u001b[0m \u001b[0my_train\u001b[0m\u001b[1;33m,\u001b[0m \u001b[0my_test\u001b[0m \u001b[1;33m=\u001b[0m \u001b[0mlabel\u001b[0m\u001b[1;33m[\u001b[0m\u001b[0mtrain_index\u001b[0m\u001b[1;33m]\u001b[0m\u001b[1;33m,\u001b[0m \u001b[0mlabel\u001b[0m\u001b[1;33m[\u001b[0m\u001b[0mtest_index\u001b[0m\u001b[1;33m]\u001b[0m\u001b[1;33m\u001b[0m\u001b[1;33m\u001b[0m\u001b[0m\n\u001b[0;32m      3\u001b[0m \u001b[1;31m# pd.DataFrame(kfold.split(features))[0]\u001b[0m\u001b[1;33m\u001b[0m\u001b[1;33m\u001b[0m\u001b[1;33m\u001b[0m\u001b[0m\n",
      "\u001b[1;31mNameError\u001b[0m: name 'train_index' is not defined"
     ]
    }
   ],
   "source": [
    "X_train, X_test = features[train_index], features[test_index]\n",
    "y_train, y_test = label[train_index], label[test_index]\n",
    "# pd.DataFrame(kfold.split(features))[0]"
   ]
  },
  {
   "cell_type": "code",
   "execution_count": 19,
   "metadata": {
    "tags": []
   },
   "outputs": [
    {
     "output_type": "stream",
     "name": "stdout",
     "text": "\n#1 교차 검증 정확도 :0.47, 학습 데이터 크기: 400, 검증 데이터 크기: 100\n#1 검증 세트 인덱스:[ 0  1  2  3  4  5  6  7  8  9 10 11 12 13 14 15 16 17 18 19 20 21 22 23\n 24 25 26 27 28 29 30 31 32 33 34 35 36 37 38 39 40 41 42 43 44 45 46 47\n 48 49 50 51 52 53 54 55 56 57 58 59 60 61 62 63 64 65 66 67 68 69 70 71\n 72 73 74 75 76 77 78 79 80 81 82 83 84 85 86 87 88 89 90 91 92 93 94 95\n 96 97 98 99]\n\n#2 교차 검증 정확도 :0.49, 학습 데이터 크기: 400, 검증 데이터 크기: 100\n#2 검증 세트 인덱스:[100 101 102 103 104 105 106 107 108 109 110 111 112 113 114 115 116 117\n 118 119 120 121 122 123 124 125 126 127 128 129 130 131 132 133 134 135\n 136 137 138 139 140 141 142 143 144 145 146 147 148 149 150 151 152 153\n 154 155 156 157 158 159 160 161 162 163 164 165 166 167 168 169 170 171\n 172 173 174 175 176 177 178 179 180 181 182 183 184 185 186 187 188 189\n 190 191 192 193 194 195 196 197 198 199]\n\n#3 교차 검증 정확도 :0.45, 학습 데이터 크기: 400, 검증 데이터 크기: 100\n#3 검증 세트 인덱스:[200 201 202 203 204 205 206 207 208 209 210 211 212 213 214 215 216 217\n 218 219 220 221 222 223 224 225 226 227 228 229 230 231 232 233 234 235\n 236 237 238 239 240 241 242 243 244 245 246 247 248 249 250 251 252 253\n 254 255 256 257 258 259 260 261 262 263 264 265 266 267 268 269 270 271\n 272 273 274 275 276 277 278 279 280 281 282 283 284 285 286 287 288 289\n 290 291 292 293 294 295 296 297 298 299]\n\n#4 교차 검증 정확도 :0.51, 학습 데이터 크기: 400, 검증 데이터 크기: 100\n#4 검증 세트 인덱스:[300 301 302 303 304 305 306 307 308 309 310 311 312 313 314 315 316 317\n 318 319 320 321 322 323 324 325 326 327 328 329 330 331 332 333 334 335\n 336 337 338 339 340 341 342 343 344 345 346 347 348 349 350 351 352 353\n 354 355 356 357 358 359 360 361 362 363 364 365 366 367 368 369 370 371\n 372 373 374 375 376 377 378 379 380 381 382 383 384 385 386 387 388 389\n 390 391 392 393 394 395 396 397 398 399]\n\n#5 교차 검증 정확도 :0.52, 학습 데이터 크기: 400, 검증 데이터 크기: 100\n#5 검증 세트 인덱스:[400 401 402 403 404 405 406 407 408 409 410 411 412 413 414 415 416 417\n 418 419 420 421 422 423 424 425 426 427 428 429 430 431 432 433 434 435\n 436 437 438 439 440 441 442 443 444 445 446 447 448 449 450 451 452 453\n 454 455 456 457 458 459 460 461 462 463 464 465 466 467 468 469 470 471\n 472 473 474 475 476 477 478 479 480 481 482 483 484 485 486 487 488 489\n 490 491 492 493 494 495 496 497 498 499]\n\n## 평균 검증 정확도: 0.488\n"
    }
   ],
   "source": [
    "n_iter = 0\n",
    "\n",
    "# KFold객체의 split( ) 호출하면 폴드 별 학습용, 검증용 테스트의 로우 인덱스를 array로 반환  \n",
    "for train_index, test_index  in kfold.split(features):\n",
    "    # kfold.split( )으로 반환된 인덱스를 이용하여 학습용, 검증용 테스트 데이터 추출\n",
    "    X_train, X_test = features[train_index], features[test_index]\n",
    "    y_train, y_test = label[train_index], label[test_index]\n",
    "    \n",
    "    #학습 및 예측 \n",
    "    dt_clf.fit(X_train , y_train)    \n",
    "    pred = dt_clf.predict(X_test)\n",
    "    n_iter += 1\n",
    "    \n",
    "    # 반복 시 마다 정확도 측정 \n",
    "    accuracy = np.round(accuracy_score(y_test,pred), 4)\n",
    "    train_size = X_train.shape[0]\n",
    "    test_size = X_test.shape[0]\n",
    "    print('\\n#{0} 교차 검증 정확도 :{1}, 학습 데이터 크기: {2}, 검증 데이터 크기: {3}'\n",
    "          .format(n_iter, accuracy, train_size, test_size))\n",
    "    print('#{0} 검증 세트 인덱스:{1}'.format(n_iter,test_index))\n",
    "    \n",
    "    cv_accuracy.append(accuracy)\n",
    "    \n",
    "# 개별 iteration별 정확도를 합하여 평균 정확도 계산 \n",
    "print('\\n## 평균 검증 정확도:', np.mean(cv_accuracy)) "
   ]
  },
  {
   "cell_type": "markdown",
   "metadata": {},
   "source": [
    "* stratified K 검정"
   ]
  },
  {
   "cell_type": "code",
   "execution_count": 20,
   "metadata": {
    "tags": []
   },
   "outputs": [
    {
     "output_type": "stream",
     "name": "stdout",
     "text": "Gender  Height  Weight  Index\n0       NaN     174      96    NaN\n1       NaN     189      87    NaN\n2       NaN     185     110    NaN\n3       NaN     195     104    NaN\n4       NaN     149      61    NaN\n..      ...     ...     ...    ...\n495     NaN     150     153    NaN\n496     NaN     184     121    NaN\n497     NaN     141     136    NaN\n498     NaN     150      95    NaN\n499     NaN     173     131    NaN\n\n[500 rows x 4 columns]\n"
    },
    {
     "output_type": "execute_result",
     "data": {
      "text/plain": "2    255\n1    245\nName: label, dtype: int64"
     },
     "metadata": {},
     "execution_count": 20
    }
   ],
   "source": [
    "import pandas as pd\n",
    "\n",
    "body_df = pd.DataFrame(data=body_data, columns=list(body_df))\n",
    "print(body_df)\n",
    "body_df['label']=body_target\n",
    "body_df['label'].value_counts()"
   ]
  },
  {
   "cell_type": "code",
   "execution_count": 21,
   "metadata": {
    "tags": []
   },
   "outputs": [
    {
     "output_type": "stream",
     "name": "stdout",
     "text": "## 교차 검증: 1\n학습 레이블 데이터 분포:\n 2    171\n1    162\nName: label, dtype: int64\n검증 레이블 데이터 분포:\n 2    84\n1    83\nName: label, dtype: int64\n\n## 교차 검증: 2\n학습 레이블 데이터 분포:\n 2    176\n1    157\nName: label, dtype: int64\n검증 레이블 데이터 분포:\n 1    88\n2    79\nName: label, dtype: int64\n\n## 교차 검증: 3\n학습 레이블 데이터 분포:\n 1    171\n2    163\nName: label, dtype: int64\n검증 레이블 데이터 분포:\n 2    92\n1    74\nName: label, dtype: int64\n\n"
    }
   ],
   "source": [
    "kfold = KFold(n_splits=3)\n",
    "n_iter =0\n",
    "for train_index, test_index  in kfold.split(body_df):\n",
    "    n_iter += 1\n",
    "    label_train= body_df['label'].iloc[train_index]\n",
    "    label_test= body_df['label'].iloc[test_index]\n",
    "    print('## 교차 검증: {0}'.format(n_iter))\n",
    "    print('학습 레이블 데이터 분포:\\n', label_train.value_counts())\n",
    "    print('검증 레이블 데이터 분포:\\n', label_test.value_counts())\n",
    "    print()\n",
    "    "
   ]
  },
  {
   "cell_type": "code",
   "execution_count": 22,
   "metadata": {
    "tags": []
   },
   "outputs": [
    {
     "output_type": "stream",
     "name": "stdout",
     "text": "## 교차 검증: 1\n학습 레이블 데이터 분포:\n 2    170\n1    163\nName: label, dtype: int64\n검증 레이블 데이터 분포:\n 2    85\n1    82\nName: label, dtype: int64\n\n## 교차 검증: 2\n학습 레이블 데이터 분포:\n 2    170\n1    163\nName: label, dtype: int64\n검증 레이블 데이터 분포:\n 2    85\n1    82\nName: label, dtype: int64\n\n## 교차 검증: 3\n학습 레이블 데이터 분포:\n 2    170\n1    164\nName: label, dtype: int64\n검증 레이블 데이터 분포:\n 2    85\n1    81\nName: label, dtype: int64\n\n"
    }
   ],
   "source": [
    "from sklearn.model_selection import StratifiedKFold\n",
    "\n",
    "skf = StratifiedKFold(n_splits=3)\n",
    "n_iter=0\n",
    "\n",
    "for train_index, test_index in skf.split(body_df, body_df['label']):\n",
    "    n_iter += 1\n",
    "    label_train= body_df['label'].iloc[train_index]\n",
    "    label_test= body_df['label'].iloc[test_index]\n",
    "    print('## 교차 검증: {0}'.format(n_iter))\n",
    "    print('학습 레이블 데이터 분포:\\n', label_train.value_counts())\n",
    "    print('검증 레이블 데이터 분포:\\n', label_test.value_counts())\n",
    "    print()"
   ]
  },
  {
   "cell_type": "code",
   "execution_count": 23,
   "metadata": {
    "tags": []
   },
   "outputs": [
    {
     "output_type": "stream",
     "name": "stdout",
     "text": "\n#1 교차 검증 정확도 :0.503, 학습 데이터 크기: 333, 검증 데이터 크기: 167\n#1 검증 세트 인덱스:[  0   1   2   3   4   5   6   7   8   9  10  11  12  13  14  15  16  17\n  18  19  20  21  22  23  24  25  26  27  28  29  30  31  32  33  34  35\n  36  37  38  39  40  41  42  43  44  45  46  47  48  49  50  51  52  53\n  54  55  56  57  58  59  60  61  62  63  64  65  66  67  68  69  70  71\n  72  73  74  75  76  77  78  79  80  81  82  83  84  85  86  87  88  89\n  90  91  92  93  94  95  96  97  98  99 100 101 102 103 104 105 106 107\n 108 109 110 111 112 113 114 115 116 117 118 119 120 121 122 123 124 125\n 126 127 128 129 130 131 132 133 134 135 136 137 138 139 140 141 142 143\n 144 145 146 147 148 149 150 151 152 153 154 155 156 157 158 159 160 161\n 162 163 164 165 167]\n\n#2 교차 검증 정확도 :0.4551, 학습 데이터 크기: 333, 검증 데이터 크기: 167\n#2 검증 세트 인덱스:[166 168 169 170 171 172 173 174 175 176 177 178 179 180 181 182 183 184\n 185 186 187 188 189 190 191 192 193 194 195 196 197 198 199 200 201 202\n 203 204 205 206 207 208 209 210 211 212 213 214 215 216 217 218 219 220\n 221 222 223 224 225 226 227 228 229 230 231 232 233 234 235 236 237 238\n 239 240 241 242 243 244 245 246 247 248 249 250 251 252 253 254 255 256\n 257 258 259 260 261 262 263 264 265 266 267 268 269 270 271 272 273 274\n 275 276 277 278 279 280 281 282 283 284 285 286 287 288 289 290 291 292\n 293 294 295 296 297 298 299 300 301 302 303 304 305 306 307 308 309 310\n 311 312 313 314 315 316 320 321 324 325 326 327 328 329 330 333 334 336\n 337 338 339 340 341]\n\n#3 교차 검증 정확도 :0.506, 학습 데이터 크기: 334, 검증 데이터 크기: 166\n#3 검증 세트 인덱스:[317 318 319 322 323 331 332 335 342 343 344 345 346 347 348 349 350 351\n 352 353 354 355 356 357 358 359 360 361 362 363 364 365 366 367 368 369\n 370 371 372 373 374 375 376 377 378 379 380 381 382 383 384 385 386 387\n 388 389 390 391 392 393 394 395 396 397 398 399 400 401 402 403 404 405\n 406 407 408 409 410 411 412 413 414 415 416 417 418 419 420 421 422 423\n 424 425 426 427 428 429 430 431 432 433 434 435 436 437 438 439 440 441\n 442 443 444 445 446 447 448 449 450 451 452 453 454 455 456 457 458 459\n 460 461 462 463 464 465 466 467 468 469 470 471 472 473 474 475 476 477\n 478 479 480 481 482 483 484 485 486 487 488 489 490 491 492 493 494 495\n 496 497 498 499]\n\n## 교차 검증별 정확도: [0.503  0.4551 0.506 ]\n## 평균 검증 정확도: 0.4880333333333333\n"
    }
   ],
   "source": [
    "dt_clf = DecisionTreeClassifier(random_state=156)\n",
    "\n",
    "skfold = StratifiedKFold(n_splits=3)\n",
    "n_iter=0\n",
    "cv_accuracy=[]\n",
    "\n",
    "# StratifiedKFold의 split( ) 호출시 반드시 레이블 데이터 셋도 추가 입력 필요  \n",
    "for train_index, test_index  in skfold.split(features, label):\n",
    "    # split( )으로 반환된 인덱스를 이용하여 학습용, 검증용 테스트 데이터 추출\n",
    "    X_train, X_test = features[train_index], features[test_index]\n",
    "    y_train, y_test = label[train_index], label[test_index]\n",
    "    \n",
    "    #학습 및 예측 \n",
    "    dt_clf.fit(X_train , y_train)    \n",
    "    pred = dt_clf.predict(X_test)\n",
    "\n",
    "    # 반복 시 마다 정확도 측정 \n",
    "    n_iter += 1\n",
    "    accuracy = np.round(accuracy_score(y_test,pred), 4)\n",
    "    train_size = X_train.shape[0]\n",
    "    test_size = X_test.shape[0]\n",
    "    \n",
    "    print('\\n#{0} 교차 검증 정확도 :{1}, 학습 데이터 크기: {2}, 검증 데이터 크기: {3}'\n",
    "          .format(n_iter, accuracy, train_size, test_size))\n",
    "    print('#{0} 검증 세트 인덱스:{1}'.format(n_iter,test_index))\n",
    "    cv_accuracy.append(accuracy)\n",
    "    \n",
    "# 교차 검증별 정확도 및 평균 정확도 계산 \n",
    "print('\\n## 교차 검증별 정확도:', np.round(cv_accuracy, 4))\n",
    "print('## 평균 검증 정확도:', np.mean(cv_accuracy)) "
   ]
  },
  {
   "cell_type": "markdown",
   "metadata": {},
   "source": [
    "* cross_val_score()"
   ]
  },
  {
   "cell_type": "code",
   "execution_count": 24,
   "metadata": {
    "tags": []
   },
   "outputs": [
    {
     "output_type": "stream",
     "name": "stdout",
     "text": "교차 검증별 정확도: [0.49 0.51 0.48 0.57 0.51]\n평균 검증 정확도: 0.512\n"
    }
   ],
   "source": [
    "from sklearn.tree import DecisionTreeClassifier\n",
    "from sklearn.model_selection import cross_val_score , cross_validate\n",
    "from sklearn.datasets import load_iris\n",
    "import numpy as np\n",
    "\n",
    "dt_clf = DecisionTreeClassifier(random_state=156)\n",
    "\n",
    "data = body_data\n",
    "label = body_target\n",
    "\n",
    "# 성능 지표는 정확도(accuracy) , 교차 검증 세트는 3개 \n",
    "scores = cross_val_score(dt_clf , data , label , scoring='accuracy',cv=5)\n",
    "print('교차 검증별 정확도:',np.round(scores, 4))\n",
    "print('평균 검증 정확도:', np.round(np.mean(scores), 4))\n"
   ]
  },
  {
   "cell_type": "markdown",
   "metadata": {},
   "source": [
    "* GridSearchCV"
   ]
  },
  {
   "cell_type": "code",
   "execution_count": 25,
   "metadata": {},
   "outputs": [],
   "source": [
    "from sklearn.datasets import load_iris\n",
    "from sklearn.tree import DecisionTreeClassifier\n",
    "from sklearn.model_selection import GridSearchCV, train_test_split\n",
    "from sklearn.metrics import accuracy_score\n",
    "\n",
    "# 데이터를 로딩하고 학습데이타와 테스트 데이터 분리\n",
    "X_train, X_test, y_train, y_test = train_test_split(body_data, body_target, \n",
    "                                                    test_size=0.2, random_state=121)\n",
    "dtree = DecisionTreeClassifier()\n",
    "\n",
    "### parameter 들을 dictionary 형태로 설정\n",
    "parameters = {'max_depth':[1, 2, 3], 'min_samples_split':[2,3]}"
   ]
  },
  {
   "cell_type": "code",
   "execution_count": 26,
   "metadata": {},
   "outputs": [
    {
     "output_type": "execute_result",
     "data": {
      "text/plain": "                                     params  mean_test_score  rank_test_score  \\\n0  {'max_depth': 1, 'min_samples_split': 2}         0.522500                1   \n1  {'max_depth': 1, 'min_samples_split': 3}         0.522500                1   \n2  {'max_depth': 2, 'min_samples_split': 2}         0.482419                5   \n3  {'max_depth': 2, 'min_samples_split': 3}         0.482419                5   \n4  {'max_depth': 3, 'min_samples_split': 2}         0.497475                3   \n5  {'max_depth': 3, 'min_samples_split': 3}         0.497475                3   \n\n   split0_test_score  split1_test_score  split2_test_score  \n0           0.522388           0.533835           0.511278  \n1           0.522388           0.533835           0.511278  \n2           0.514925           0.488722           0.443609  \n3           0.514925           0.488722           0.443609  \n4           0.507463           0.511278           0.473684  \n5           0.507463           0.511278           0.473684  ",
      "text/html": "<div>\n<style scoped>\n    .dataframe tbody tr th:only-of-type {\n        vertical-align: middle;\n    }\n\n    .dataframe tbody tr th {\n        vertical-align: top;\n    }\n\n    .dataframe thead th {\n        text-align: right;\n    }\n</style>\n<table border=\"1\" class=\"dataframe\">\n  <thead>\n    <tr style=\"text-align: right;\">\n      <th></th>\n      <th>params</th>\n      <th>mean_test_score</th>\n      <th>rank_test_score</th>\n      <th>split0_test_score</th>\n      <th>split1_test_score</th>\n      <th>split2_test_score</th>\n    </tr>\n  </thead>\n  <tbody>\n    <tr>\n      <th>0</th>\n      <td>{'max_depth': 1, 'min_samples_split': 2}</td>\n      <td>0.522500</td>\n      <td>1</td>\n      <td>0.522388</td>\n      <td>0.533835</td>\n      <td>0.511278</td>\n    </tr>\n    <tr>\n      <th>1</th>\n      <td>{'max_depth': 1, 'min_samples_split': 3}</td>\n      <td>0.522500</td>\n      <td>1</td>\n      <td>0.522388</td>\n      <td>0.533835</td>\n      <td>0.511278</td>\n    </tr>\n    <tr>\n      <th>2</th>\n      <td>{'max_depth': 2, 'min_samples_split': 2}</td>\n      <td>0.482419</td>\n      <td>5</td>\n      <td>0.514925</td>\n      <td>0.488722</td>\n      <td>0.443609</td>\n    </tr>\n    <tr>\n      <th>3</th>\n      <td>{'max_depth': 2, 'min_samples_split': 3}</td>\n      <td>0.482419</td>\n      <td>5</td>\n      <td>0.514925</td>\n      <td>0.488722</td>\n      <td>0.443609</td>\n    </tr>\n    <tr>\n      <th>4</th>\n      <td>{'max_depth': 3, 'min_samples_split': 2}</td>\n      <td>0.497475</td>\n      <td>3</td>\n      <td>0.507463</td>\n      <td>0.511278</td>\n      <td>0.473684</td>\n    </tr>\n    <tr>\n      <th>5</th>\n      <td>{'max_depth': 3, 'min_samples_split': 3}</td>\n      <td>0.497475</td>\n      <td>3</td>\n      <td>0.507463</td>\n      <td>0.511278</td>\n      <td>0.473684</td>\n    </tr>\n  </tbody>\n</table>\n</div>"
     },
     "metadata": {},
     "execution_count": 26
    }
   ],
   "source": [
    "import pandas as pd\n",
    "\n",
    "# param_grid의 하이퍼 파라미터들을 3개의 train, test set fold 로 나누어서 테스트 수행 설정.  \n",
    "### refit=True 가 default 임. True이면 가장 좋은 파라미터 설정으로 재 학습 시킴.  \n",
    "grid_dtree = GridSearchCV(dtree, param_grid=parameters, cv=3, refit=True, return_train_score=True)\n",
    "\n",
    "# 붓꽃 Train 데이터로 param_grid의 하이퍼 파라미터들을 순차적으로 학습/평가 .\n",
    "grid_dtree.fit(X_train, y_train)\n",
    "\n",
    "# GridSearchCV 결과는 cv_results_ 라는 딕셔너리로 저장됨. 이를 DataFrame으로 변환\n",
    "scores_df = pd.DataFrame(grid_dtree.cv_results_)\n",
    "scores_df[['params', 'mean_test_score', 'rank_test_score', \n",
    "           'split0_test_score', 'split1_test_score', 'split2_test_score']]"
   ]
  },
  {
   "cell_type": "code",
   "execution_count": 27,
   "metadata": {},
   "outputs": [
    {
     "output_type": "execute_result",
     "data": {
      "text/plain": "{'mean_fit_time': array([0.00365583, 0.00299184, 0.0029908 , 0.00265948, 0.00299128,\n        0.00232267]),\n 'std_fit_time': array([4.69291604e-04, 8.14490753e-04, 8.15366730e-04, 4.70639899e-04,\n        4.49566384e-07, 4.63446756e-04]),\n 'mean_score_time': array([0.00365734, 0.00199461, 0.00232855, 0.00233078, 0.00232792,\n        0.00166233]),\n 'std_score_time': array([4.72044743e-04, 1.21570099e-06, 4.70417935e-04, 1.24299715e-03,\n        4.71033179e-04, 4.69740766e-04]),\n 'param_max_depth': masked_array(data=[1, 1, 2, 2, 3, 3],\n              mask=[False, False, False, False, False, False],\n        fill_value='?',\n             dtype=object),\n 'param_min_samples_split': masked_array(data=[2, 3, 2, 3, 2, 3],\n              mask=[False, False, False, False, False, False],\n        fill_value='?',\n             dtype=object),\n 'params': [{'max_depth': 1, 'min_samples_split': 2},\n  {'max_depth': 1, 'min_samples_split': 3},\n  {'max_depth': 2, 'min_samples_split': 2},\n  {'max_depth': 2, 'min_samples_split': 3},\n  {'max_depth': 3, 'min_samples_split': 2},\n  {'max_depth': 3, 'min_samples_split': 3}],\n 'split0_test_score': array([0.52238806, 0.52238806, 0.51492537, 0.51492537, 0.50746269,\n        0.50746269]),\n 'split1_test_score': array([0.53383459, 0.53383459, 0.4887218 , 0.4887218 , 0.5112782 ,\n        0.5112782 ]),\n 'split2_test_score': array([0.5112782 , 0.5112782 , 0.44360902, 0.44360902, 0.47368421,\n        0.47368421]),\n 'mean_test_score': array([0.52250028, 0.52250028, 0.48241873, 0.48241873, 0.49747503,\n        0.49747503]),\n 'std_test_score': array([0.00920895, 0.00920895, 0.02945394, 0.02945394, 0.01689461,\n        0.01689461]),\n 'rank_test_score': array([1, 1, 5, 5, 3, 3]),\n 'split0_train_score': array([0.57142857, 0.57142857, 0.57518797, 0.57518797, 0.58646617,\n        0.58646617]),\n 'split1_train_score': array([0.55805243, 0.55805243, 0.56554307, 0.56554307, 0.57677903,\n        0.57677903]),\n 'split2_train_score': array([0.5505618 , 0.5505618 , 0.57677903, 0.57677903, 0.58801498,\n        0.58801498]),\n 'mean_train_score': array([0.56001427, 0.56001427, 0.57250336, 0.57250336, 0.58375339,\n        0.58375339]),\n 'std_train_score': array([0.00863104, 0.00863104, 0.00496434, 0.00496434, 0.00497199,\n        0.00497199])}"
     },
     "metadata": {},
     "execution_count": 27
    }
   ],
   "source": [
    "grid_dtree.cv_results_"
   ]
  },
  {
   "cell_type": "code",
   "execution_count": 28,
   "metadata": {
    "tags": []
   },
   "outputs": [
    {
     "output_type": "stream",
     "name": "stdout",
     "text": "GridSearchCV 최적 파라미터: {'max_depth': 1, 'min_samples_split': 2}\nGridSearchCV 최고 정확도: 0.5225\n테스트 데이터 세트 정확도: 0.4900\n"
    }
   ],
   "source": [
    "print('GridSearchCV 최적 파라미터:', grid_dtree.best_params_)\n",
    "print('GridSearchCV 최고 정확도: {0:.4f}'.format(grid_dtree.best_score_))\n",
    "\n",
    "# refit=True로 설정된 GridSearchCV 객체가 fit()을 수행 시 학습이 완료된 Estimator를 내포하고 있으므로 predict()를 통해 예측도 가능. \n",
    "pred = grid_dtree.predict(X_test)\n",
    "print('테스트 데이터 세트 정확도: {0:.4f}'.format(accuracy_score(y_test,pred)))"
   ]
  },
  {
   "cell_type": "code",
   "execution_count": 29,
   "metadata": {
    "tags": []
   },
   "outputs": [
    {
     "output_type": "stream",
     "name": "stdout",
     "text": "테스트 데이터 세트 정확도: 0.4900\n"
    }
   ],
   "source": [
    "# GridSearchCV의 refit으로 이미 학습이 된 estimator 반환\n",
    "estimator = grid_dtree.best_estimator_\n",
    "\n",
    "# GridSearchCV의 best_estimator_는 이미 최적 하이퍼 파라미터로 학습이 됨\n",
    "pred = estimator.predict(X_test)\n",
    "print('테스트 데이터 세트 정확도: {0:.4f}'.format(accuracy_score(y_test,pred)))"
   ]
  },
  {
   "cell_type": "markdown",
   "metadata": {},
   "source": [
    "### 결과\n",
    "\n",
    "키와 체중만으로 성별을 맞출 확률은 0.5에 수렴함."
   ]
  },
  {
   "cell_type": "markdown",
   "metadata": {},
   "source": [
    "### 한계 및 개선점\n",
    "\n",
    "1) 정상체중의 경우 데이터 수가 현저히 줄어들어 학습이 편중될 수 있음\n",
    "\n",
    "2) 현대인의 체중은 생물학적 특성이 아니라 본인의 식습관에 영향을 받기에 남녀에 무관한 양상을 띔\n",
    "\n",
    "3) 차후 데이터셋의 모든 변수가 y의 결정에 관여하는 데이터를 활용하여 재시도할 예정\n"
   ]
  }
 ]
}