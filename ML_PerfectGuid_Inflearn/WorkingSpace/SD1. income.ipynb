{
 "metadata": {
  "language_info": {
   "codemirror_mode": {
    "name": "ipython",
    "version": 3
   },
   "file_extension": ".py",
   "mimetype": "text/x-python",
   "name": "python",
   "nbconvert_exporter": "python",
   "pygments_lexer": "ipython3",
   "version": "3.8.5-final"
  },
  "orig_nbformat": 2,
  "kernelspec": {
   "name": "python_defaultSpec_1600158938834",
   "display_name": "Python 3.8.5 64-bit ('base': conda)"
  }
 },
 "nbformat": 4,
 "nbformat_minor": 2,
 "cells": [
  {
   "source": [
    "## data dictionary\n",
    "\n",
    "50K, <=50K.\n",
    "age: continuous.\n",
    "\n",
    "workclass: Private, Self-emp-not-inc, Self-emp-inc, Federal-gov, Local-gov, State-gov, Without-pay, Never-worked.\n",
    "\n",
    "fnlwgt: continuous. drop\n",
    "\n",
    "education: Bachelors, Some-college, 11th, HS-grad, Prof-school, Assoc-acdm, Assoc-voc, 9th, 7th-8th, 12th, Masters, 1st-4th, 10th, Doctorate, 5th-6th, Preschool. drop\n",
    "\n",
    "education-num: continuous.\n",
    "\n",
    "marital-status: Married-civ-spouse, Divorced, Never-married, Separated, Widowed, Married-spouse-absent, Married-AF-spouse. drop\n",
    "\n",
    "occupation: Tech-support, Craft-repair, Other-service, Sales, Exec-managerial, Prof-specialty, Handlers-cleaners, Machine-op-inspct, Adm-clerical, Farming-fishing, Transport-moving, Priv-house-serv, Protective-serv, Armed-Forces.\n",
    "\n",
    "relationship: Wife, Own-child, Husband, Not-in-family, Other-relative, Unmarried. \n",
    "\n",
    "race: White, Asian-Pac-Islander, Amer-Indian-Eskimo, Other, Black.\n",
    "\n",
    "sex: Female, Male.\n",
    "\n",
    "capital-gain: continuous.\n",
    "\n",
    "capital-loss: continuous.\n",
    "\n",
    "hours-per-week: continuous.\n",
    "\n",
    "native-country: United-States, Cambodia, England, Puerto-Rico, Canada, Germany, Outlying-US(Guam-USVI-etc), India, Japan, Greece, South, China, Cuba, Iran, Honduras, Philippines, Italy, Poland, Jamaica, Vietnam, Mexico, Portugal, Ireland, France, Dominican-Republic, Laos, Ecuador, Taiwan, Haiti, Columbia, Hungary, Guatemala, Nicaragua, Scotland, Thailand, Yugoslavia, El-Salvador, Trinadad&Tobago, Peru, Hong, Holand-Netherlands. * drop"
   ],
   "cell_type": "markdown",
   "metadata": {}
  },
  {
   "cell_type": "code",
   "execution_count": 27,
   "metadata": {},
   "outputs": [],
   "source": [
    "import numpy as np\n",
    "import pandas as pd\n",
    "from sklearn.datasets import load_iris\n",
    "from sklearn.tree import DecisionTreeClassifier\n",
    "from sklearn.metrics import accuracy_score\n",
    "from sklearn.model_selection import train_test_split\n",
    "from matplotlib.pyplot import figure\n",
    "import matplotlib.pyplot as plt"
   ]
  },
  {
   "cell_type": "code",
   "execution_count": 63,
   "metadata": {},
   "outputs": [],
   "source": [
    "dt_clf = DecisionTreeClassifier()\n",
    "income_df = pd.read_csv(\"C:\\\\Users\\\\flowe\\\\OneDrive - San Francisco State University\\\\Data Warehouse\\\\Income evaluation\\\\income_evaluation.csv\")\n"
   ]
  },
  {
   "cell_type": "code",
   "execution_count": 64,
   "metadata": {
    "tags": []
   },
   "outputs": [],
   "source": [
    "income_df.drop([\" fnlwgt\", \" education\", \" relationship\", \" native-country\"], axis = 1, inplace = True)"
   ]
  },
  {
   "cell_type": "code",
   "execution_count": 65,
   "metadata": {
    "tags": []
   },
   "outputs": [
    {
     "output_type": "stream",
     "name": "stdout",
     "text": "<class 'pandas.core.frame.DataFrame'>\nRangeIndex: 32561 entries, 0 to 32560\nData columns (total 11 columns):\n #   Column           Non-Null Count  Dtype \n---  ------           --------------  ----- \n 0   age              32561 non-null  int64 \n 1    workclass       32561 non-null  object\n 2    education-num   32561 non-null  int64 \n 3    marital-status  32561 non-null  object\n 4    occupation      32561 non-null  object\n 5    race            32561 non-null  object\n 6    sex             32561 non-null  object\n 7    capital-gain    32561 non-null  int64 \n 8    capital-loss    32561 non-null  int64 \n 9    hours-per-week  32561 non-null  int64 \n 10   income          32561 non-null  object\ndtypes: int64(5), object(6)\nmemory usage: 2.7+ MB\n"
    }
   ],
   "source": [
    "income_df.info()"
   ]
  },
  {
   "cell_type": "code",
   "execution_count": 66,
   "metadata": {},
   "outputs": [],
   "source": [
    "income_df=pd.get_dummies(income_df, drop_first=True)"
   ]
  },
  {
   "cell_type": "code",
   "execution_count": 67,
   "metadata": {
    "tags": []
   },
   "outputs": [
    {
     "output_type": "stream",
     "name": "stdout",
     "text": "<class 'pandas.core.frame.DataFrame'>\nRangeIndex: 32561 entries, 0 to 32560\nData columns (total 39 columns):\n #   Column                                  Non-Null Count  Dtype\n---  ------                                  --------------  -----\n 0   age                                     32561 non-null  int64\n 1    education-num                          32561 non-null  int64\n 2    capital-gain                           32561 non-null  int64\n 3    capital-loss                           32561 non-null  int64\n 4    hours-per-week                         32561 non-null  int64\n 5    workclass_ Federal-gov                 32561 non-null  uint8\n 6    workclass_ Local-gov                   32561 non-null  uint8\n 7    workclass_ Never-worked                32561 non-null  uint8\n 8    workclass_ Private                     32561 non-null  uint8\n 9    workclass_ Self-emp-inc                32561 non-null  uint8\n 10   workclass_ Self-emp-not-inc            32561 non-null  uint8\n 11   workclass_ State-gov                   32561 non-null  uint8\n 12   workclass_ Without-pay                 32561 non-null  uint8\n 13   marital-status_ Married-AF-spouse      32561 non-null  uint8\n 14   marital-status_ Married-civ-spouse     32561 non-null  uint8\n 15   marital-status_ Married-spouse-absent  32561 non-null  uint8\n 16   marital-status_ Never-married          32561 non-null  uint8\n 17   marital-status_ Separated              32561 non-null  uint8\n 18   marital-status_ Widowed                32561 non-null  uint8\n 19   occupation_ Adm-clerical               32561 non-null  uint8\n 20   occupation_ Armed-Forces               32561 non-null  uint8\n 21   occupation_ Craft-repair               32561 non-null  uint8\n 22   occupation_ Exec-managerial            32561 non-null  uint8\n 23   occupation_ Farming-fishing            32561 non-null  uint8\n 24   occupation_ Handlers-cleaners          32561 non-null  uint8\n 25   occupation_ Machine-op-inspct          32561 non-null  uint8\n 26   occupation_ Other-service              32561 non-null  uint8\n 27   occupation_ Priv-house-serv            32561 non-null  uint8\n 28   occupation_ Prof-specialty             32561 non-null  uint8\n 29   occupation_ Protective-serv            32561 non-null  uint8\n 30   occupation_ Sales                      32561 non-null  uint8\n 31   occupation_ Tech-support               32561 non-null  uint8\n 32   occupation_ Transport-moving           32561 non-null  uint8\n 33   race_ Asian-Pac-Islander               32561 non-null  uint8\n 34   race_ Black                            32561 non-null  uint8\n 35   race_ Other                            32561 non-null  uint8\n 36   race_ White                            32561 non-null  uint8\n 37   sex_ Male                              32561 non-null  uint8\n 38   income_ >50K                           32561 non-null  uint8\ndtypes: int64(5), uint8(34)\nmemory usage: 2.3 MB\n"
    }
   ],
   "source": [
    "income_df.info()"
   ]
  },
  {
   "cell_type": "code",
   "execution_count": 68,
   "metadata": {},
   "outputs": [
    {
     "output_type": "execute_result",
     "data": {
      "text/plain": "   age   education-num   capital-gain   capital-loss   hours-per-week  \\\n0   39              13           2174              0               40   \n1   50              13              0              0               13   \n2   38               9              0              0               40   \n3   53               7              0              0               40   \n4   28              13              0              0               40   \n\n    workclass_ Federal-gov   workclass_ Local-gov   workclass_ Never-worked  \\\n0                        0                      0                         0   \n1                        0                      0                         0   \n2                        0                      0                         0   \n3                        0                      0                         0   \n4                        0                      0                         0   \n\n    workclass_ Private   workclass_ Self-emp-inc  ...  \\\n0                    0                         0  ...   \n1                    0                         0  ...   \n2                    1                         0  ...   \n3                    1                         0  ...   \n4                    1                         0  ...   \n\n    occupation_ Protective-serv   occupation_ Sales  \\\n0                             0                   0   \n1                             0                   0   \n2                             0                   0   \n3                             0                   0   \n4                             0                   0   \n\n    occupation_ Tech-support   occupation_ Transport-moving  \\\n0                          0                              0   \n1                          0                              0   \n2                          0                              0   \n3                          0                              0   \n4                          0                              0   \n\n    race_ Asian-Pac-Islander   race_ Black   race_ Other   race_ White  \\\n0                          0             0             0             1   \n1                          0             0             0             1   \n2                          0             0             0             1   \n3                          0             1             0             0   \n4                          0             1             0             0   \n\n    sex_ Male   income_ >50K  \n0           1              0  \n1           1              0  \n2           1              0  \n3           1              0  \n4           0              0  \n\n[5 rows x 39 columns]",
      "text/html": "<div>\n<style scoped>\n    .dataframe tbody tr th:only-of-type {\n        vertical-align: middle;\n    }\n\n    .dataframe tbody tr th {\n        vertical-align: top;\n    }\n\n    .dataframe thead th {\n        text-align: right;\n    }\n</style>\n<table border=\"1\" class=\"dataframe\">\n  <thead>\n    <tr style=\"text-align: right;\">\n      <th></th>\n      <th>age</th>\n      <th>education-num</th>\n      <th>capital-gain</th>\n      <th>capital-loss</th>\n      <th>hours-per-week</th>\n      <th>workclass_ Federal-gov</th>\n      <th>workclass_ Local-gov</th>\n      <th>workclass_ Never-worked</th>\n      <th>workclass_ Private</th>\n      <th>workclass_ Self-emp-inc</th>\n      <th>...</th>\n      <th>occupation_ Protective-serv</th>\n      <th>occupation_ Sales</th>\n      <th>occupation_ Tech-support</th>\n      <th>occupation_ Transport-moving</th>\n      <th>race_ Asian-Pac-Islander</th>\n      <th>race_ Black</th>\n      <th>race_ Other</th>\n      <th>race_ White</th>\n      <th>sex_ Male</th>\n      <th>income_ &gt;50K</th>\n    </tr>\n  </thead>\n  <tbody>\n    <tr>\n      <th>0</th>\n      <td>39</td>\n      <td>13</td>\n      <td>2174</td>\n      <td>0</td>\n      <td>40</td>\n      <td>0</td>\n      <td>0</td>\n      <td>0</td>\n      <td>0</td>\n      <td>0</td>\n      <td>...</td>\n      <td>0</td>\n      <td>0</td>\n      <td>0</td>\n      <td>0</td>\n      <td>0</td>\n      <td>0</td>\n      <td>0</td>\n      <td>1</td>\n      <td>1</td>\n      <td>0</td>\n    </tr>\n    <tr>\n      <th>1</th>\n      <td>50</td>\n      <td>13</td>\n      <td>0</td>\n      <td>0</td>\n      <td>13</td>\n      <td>0</td>\n      <td>0</td>\n      <td>0</td>\n      <td>0</td>\n      <td>0</td>\n      <td>...</td>\n      <td>0</td>\n      <td>0</td>\n      <td>0</td>\n      <td>0</td>\n      <td>0</td>\n      <td>0</td>\n      <td>0</td>\n      <td>1</td>\n      <td>1</td>\n      <td>0</td>\n    </tr>\n    <tr>\n      <th>2</th>\n      <td>38</td>\n      <td>9</td>\n      <td>0</td>\n      <td>0</td>\n      <td>40</td>\n      <td>0</td>\n      <td>0</td>\n      <td>0</td>\n      <td>1</td>\n      <td>0</td>\n      <td>...</td>\n      <td>0</td>\n      <td>0</td>\n      <td>0</td>\n      <td>0</td>\n      <td>0</td>\n      <td>0</td>\n      <td>0</td>\n      <td>1</td>\n      <td>1</td>\n      <td>0</td>\n    </tr>\n    <tr>\n      <th>3</th>\n      <td>53</td>\n      <td>7</td>\n      <td>0</td>\n      <td>0</td>\n      <td>40</td>\n      <td>0</td>\n      <td>0</td>\n      <td>0</td>\n      <td>1</td>\n      <td>0</td>\n      <td>...</td>\n      <td>0</td>\n      <td>0</td>\n      <td>0</td>\n      <td>0</td>\n      <td>0</td>\n      <td>1</td>\n      <td>0</td>\n      <td>0</td>\n      <td>1</td>\n      <td>0</td>\n    </tr>\n    <tr>\n      <th>4</th>\n      <td>28</td>\n      <td>13</td>\n      <td>0</td>\n      <td>0</td>\n      <td>40</td>\n      <td>0</td>\n      <td>0</td>\n      <td>0</td>\n      <td>1</td>\n      <td>0</td>\n      <td>...</td>\n      <td>0</td>\n      <td>0</td>\n      <td>0</td>\n      <td>0</td>\n      <td>0</td>\n      <td>1</td>\n      <td>0</td>\n      <td>0</td>\n      <td>0</td>\n      <td>0</td>\n    </tr>\n  </tbody>\n</table>\n<p>5 rows × 39 columns</p>\n</div>"
     },
     "metadata": {},
     "execution_count": 68
    }
   ],
   "source": [
    "income_df.head()"
   ]
  },
  {
   "cell_type": "code",
   "execution_count": 52,
   "metadata": {},
   "outputs": [
    {
     "output_type": "execute_result",
     "data": {
      "text/plain": "0        0\n1        0\n2        0\n3        0\n4        0\n        ..\n32556    0\n32557    1\n32558    0\n32559    0\n32560    1\nName:  income_ >50K, Length: 32561, dtype: uint8"
     },
     "metadata": {},
     "execution_count": 52
    }
   ],
   "source": [
    "# target을 성별로 설정\n",
    "income_target = income_df[\" income_ >50K\"]\n",
    "income_target"
   ]
  },
  {
   "cell_type": "code",
   "execution_count": 79,
   "metadata": {
    "tags": []
   },
   "outputs": [
    {
     "output_type": "stream",
     "name": "stdout",
     "text": "<class 'pandas.core.frame.DataFrame'>\nRangeIndex: 32561 entries, 0 to 32560\nData columns (total 38 columns):\n #   Column                                  Non-Null Count  Dtype\n---  ------                                  --------------  -----\n 0   age                                     32561 non-null  int64\n 1    education-num                          32561 non-null  int64\n 2    capital-gain                           32561 non-null  int64\n 3    capital-loss                           32561 non-null  int64\n 4    hours-per-week                         32561 non-null  int64\n 5    workclass_ Federal-gov                 32561 non-null  uint8\n 6    workclass_ Local-gov                   32561 non-null  uint8\n 7    workclass_ Never-worked                32561 non-null  uint8\n 8    workclass_ Private                     32561 non-null  uint8\n 9    workclass_ Self-emp-inc                32561 non-null  uint8\n 10   workclass_ Self-emp-not-inc            32561 non-null  uint8\n 11   workclass_ State-gov                   32561 non-null  uint8\n 12   workclass_ Without-pay                 32561 non-null  uint8\n 13   marital-status_ Married-AF-spouse      32561 non-null  uint8\n 14   marital-status_ Married-civ-spouse     32561 non-null  uint8\n 15   marital-status_ Married-spouse-absent  32561 non-null  uint8\n 16   marital-status_ Never-married          32561 non-null  uint8\n 17   marital-status_ Separated              32561 non-null  uint8\n 18   marital-status_ Widowed                32561 non-null  uint8\n 19   occupation_ Adm-clerical               32561 non-null  uint8\n 20   occupation_ Armed-Forces               32561 non-null  uint8\n 21   occupation_ Craft-repair               32561 non-null  uint8\n 22   occupation_ Exec-managerial            32561 non-null  uint8\n 23   occupation_ Farming-fishing            32561 non-null  uint8\n 24   occupation_ Handlers-cleaners          32561 non-null  uint8\n 25   occupation_ Machine-op-inspct          32561 non-null  uint8\n 26   occupation_ Other-service              32561 non-null  uint8\n 27   occupation_ Priv-house-serv            32561 non-null  uint8\n 28   occupation_ Prof-specialty             32561 non-null  uint8\n 29   occupation_ Protective-serv            32561 non-null  uint8\n 30   occupation_ Sales                      32561 non-null  uint8\n 31   occupation_ Tech-support               32561 non-null  uint8\n 32   occupation_ Transport-moving           32561 non-null  uint8\n 33   race_ Asian-Pac-Islander               32561 non-null  uint8\n 34   race_ Black                            32561 non-null  uint8\n 35   race_ Other                            32561 non-null  uint8\n 36   race_ White                            32561 non-null  uint8\n 37   sex_ Male                              32561 non-null  uint8\ndtypes: int64(5), uint8(33)\nmemory usage: 2.3 MB\n"
    }
   ],
   "source": [
    "# data\n",
    "income_data = income_df.drop(\" income_ >50K\", axis = 1)\n",
    "income_data.info()"
   ]
  },
  {
   "cell_type": "code",
   "execution_count": null,
   "metadata": {},
   "outputs": [],
   "source": []
  }
 ]
}